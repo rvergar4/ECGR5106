{
 "cells": [
  {
   "cell_type": "code",
   "execution_count": 1,
   "metadata": {
    "colab": {
     "base_uri": "https://localhost:8080/"
    },
    "id": "nZcO7ItcnoBd",
    "outputId": "a32550f2-187d-4b7d-ae6d-902bfea418f1"
   },
   "outputs": [
    {
     "name": "stdout",
     "output_type": "stream",
     "text": [
      "Training on device cuda.\n"
     ]
    }
   ],
   "source": [
    "%matplotlib inline\n",
    "from matplotlib import pyplot as plt\n",
    "import numpy as np\n",
    "import collections\n",
    "import datetime\n",
    "import time\n",
    "\n",
    "import torch\n",
    "import torch.nn as nn\n",
    "import torch.nn.functional as F\n",
    "import torch.optim as optim\n",
    "from torchvision import datasets, transforms\n",
    "\n",
    "torch.set_printoptions(edgeitems=2)\n",
    "torch.manual_seed(123)\n",
    "\n",
    "device = (torch.device('cuda') if torch.cuda.is_available()\n",
    "          else torch.device('cpu'))\n",
    "print(f\"Training on device {device}.\")"
   ]
  },
  {
   "cell_type": "code",
   "execution_count": 2,
   "metadata": {
    "colab": {
     "base_uri": "https://localhost:8080/",
     "height": 104,
     "referenced_widgets": [
      "36b72cd1f9c9406ebaa88950b1d1bf77",
      "230bcd66c2c74de1a1cd57efa4b928c4",
      "fe63913a2c274f4494b0ade858d2188a",
      "68487f0f53664585b0fc0bf1a40dcb81",
      "4569fe4eb4044b19a5f0d33936db35eb",
      "cea55c5bd08b4bb89887db0a1e0ab3fd",
      "21a5a09eece947ba9fc199ba9277a995",
      "105feed8c8df4ba89452ca05943035e5",
      "bd9595fb99e14180b9cbfa8bb56ecd16",
      "7e0c0d6066034063898fb8102ab70b90",
      "2a0b3a856340403392615809aef5b162"
     ]
    },
    "id": "8IjoV6XCntHx",
    "outputId": "43e0c17e-5597-486f-e786-98b1aaf64017"
   },
   "outputs": [
    {
     "name": "stdout",
     "output_type": "stream",
     "text": [
      "Downloading https://www.cs.toronto.edu/~kriz/cifar-10-python.tar.gz to C:/Users/rosam/OneDrive/Desktop/cifar-10-batches-py/cifar-10-python.tar.gz\n"
     ]
    },
    {
     "data": {
      "application/vnd.jupyter.widget-view+json": {
       "model_id": "36b72cd1f9c9406ebaa88950b1d1bf77",
       "version_major": 2,
       "version_minor": 0
      },
      "text/plain": [
       "  0%|          | 0/170498071 [00:00<?, ?it/s]"
      ]
     },
     "metadata": {},
     "output_type": "display_data"
    },
    {
     "name": "stdout",
     "output_type": "stream",
     "text": [
      "Extracting C:/Users/rosam/OneDrive/Desktop/cifar-10-batches-py/cifar-10-python.tar.gz to C:/Users/rosam/OneDrive/Desktop/cifar-10-batches-py\n"
     ]
    }
   ],
   "source": [
    "#Setting up the data needed\n",
    "class_names = ['airplane','automobile','bird','cat','deer',\n",
    "'dog','frog','horse','ship','truck']\n",
    "#getting data\n",
    "data_path=\"C:/Users/rosam/OneDrive/Desktop/cifar-10-batches-py\"\n",
    "tensor_cifar10 = datasets.CIFAR10(data_path, train=True, download=True, \n",
    "                                  transform=transforms.Compose([\n",
    "                                                                transforms.ToTensor(),\n",
    "                                                                transforms.Normalize((0.4915, 0.4823, 0.4468), (0.2470, 0.2435, 0.2616))]))\n",
    "imgs = torch.stack([img_t for img_t, _ in tensor_cifar10], dim=3)\n",
    "#imgs.view(3, -1).mean(dim=1) => tensor([0.4914, 0.4822, 0.4465])\n",
    "#imgs.view(3, -1).std(dim=1) => tensor([0.2470, 0.2435, 0.2616])\n",
    "\n",
    "tensor_cifar10Val = datasets.CIFAR10(data_path, train=False, download=False, \n",
    "                                     transform=transforms.Compose([\n",
    "                                                                   transforms.ToTensor(),\n",
    "                                                                   transforms.Normalize((0.4942, 0.4851, 0.4504), (0.2467, 0.2429, 0.2616))]))\n",
    "imgsV = torch.stack([img_t for img_t, _ in tensor_cifar10Val], dim=3)\n",
    "#imgsV.view(3, -1).mean(dim=1) => tensor([0.4942, 0.4851, 0.4504])\n",
    "#imgsV.view(3, -1).std(dim=1) => tensor([0.2467, 0.2429, 0.2616])"
   ]
  },
  {
   "cell_type": "code",
   "execution_count": 3,
   "metadata": {
    "id": "E9iLsXyGnuHN"
   },
   "outputs": [],
   "source": [
    "#Defining training loop\n",
    "def training_loop(n_epochs, optimizer, model, loss_fn, train_loader):\n",
    "    training_start_time = time.time()\n",
    "    for epoch in range(1, n_epochs + 1):\n",
    "        loss_train = 0.0\n",
    "        for imgs, labels in train_loader:\n",
    "            imgs = imgs.to(device=device)  # <1>\n",
    "            labels = labels.to(device=device)\n",
    "            outputs = model(imgs)\n",
    "            loss = loss_fn(outputs, labels)\n",
    "\n",
    "            optimizer.zero_grad()\n",
    "            loss.backward()\n",
    "            optimizer.step()\n",
    "\n",
    "            loss_train += loss.item()\n",
    "\n",
    "        if epoch == 1 or epoch % 10 == 0:\n",
    "            print('{} Epoch {}, Training loss {}'.format(\n",
    "                datetime.datetime.now(), epoch,\n",
    "                loss_train / len(train_loader)))\n",
    "    print('Training finished, took {:.2f}s'.format(time.time() - training_start_time))\n",
    "\n",
    "#Defining function to validate accuracy\n",
    "def validate(model, train_loader, val_loader):\n",
    "    accdict = {}\n",
    "    for name, loader in [(\"train\", train_loader), (\"val\", val_loader)]:\n",
    "        correct = 0\n",
    "        total = 0\n",
    "\n",
    "        with torch.no_grad():\n",
    "            for imgs, labels in loader:\n",
    "                imgs = imgs.to(device=device)\n",
    "                labels = labels.to(device=device)\n",
    "                outputs = model(imgs)\n",
    "                _, predicted = torch.max(outputs, dim=1) # <1>\n",
    "                total += labels.shape[0]\n",
    "                correct += int((predicted == labels).sum())\n",
    "\n",
    "        print(\"Accuracy {}: {:.2f}\".format(name , correct / total))\n",
    "        accdict[name] = correct / total\n",
    "    return accdict"
   ]
  },
  {
   "cell_type": "code",
   "execution_count": 4,
   "metadata": {
    "id": "lkDbbjB4nxs2"
   },
   "outputs": [],
   "source": [
    "#Setting up Dataloader\n",
    "#used for training, shuffle and oraganize data in minibatches\n",
    "train_loader = torch.utils.data.DataLoader(tensor_cifar10, batch_size=64,shuffle=True)\n",
    "#used for accuracy measurement\n",
    "val_loader = torch.utils.data.DataLoader(tensor_cifar10Val, batch_size=64, shuffle=False)\n",
    "acc_train_loader = torch.utils.data.DataLoader(tensor_cifar10, batch_size=64, shuffle=False)"
   ]
  },
  {
   "cell_type": "code",
   "execution_count": 5,
   "metadata": {
    "colab": {
     "base_uri": "https://localhost:8080/"
    },
    "id": "DQo6I0oHn1lU",
    "outputId": "7771c2a0-7b7f-4aee-867e-00e80cdd49be"
   },
   "outputs": [
    {
     "data": {
      "text/plain": [
       "(76138, [864, 32, 32, 32, 9216, 32, 32, 65536, 32, 320, 10])"
      ]
     },
     "execution_count": 5,
     "metadata": {},
     "output_type": "execute_result"
    }
   ],
   "source": [
    "#ResNet block\n",
    "class ResBlock(nn.Module):\n",
    "    def __init__(self, n_chans):\n",
    "        super(ResBlock, self).__init__()\n",
    "        self.conv = nn.Conv2d(n_chans, n_chans, kernel_size=3, padding=1, bias=False)\n",
    "        self.batch_norm = nn.BatchNorm2d(num_features=n_chans)\n",
    "        torch.nn.init.kaiming_normal_(self.conv.weight, nonlinearity='relu')\n",
    "        torch.nn.init.constant_(self.batch_norm.weight, 0.5)\n",
    "        torch.nn.init.zeros_(self.batch_norm.bias)\n",
    "\n",
    "    def forward(self, x):\n",
    "        out = self.conv(x)\n",
    "        out = self.batch_norm(out)\n",
    "        out = torch.relu(out)\n",
    "        return out + x\n",
    "\n",
    "#ResNet model for adding batch normalization\n",
    "class ResNet10BN(nn.Module):\n",
    "    def __init__(self, n_chans1=32, n_blocks=10):\n",
    "        super().__init__()\n",
    "        self.n_chans1 = n_chans1\n",
    "        self.conv1 = nn.Conv2d(3, n_chans1, kernel_size=3, padding=1)\n",
    "        self.conv1_batchnorm = nn.BatchNorm2d(num_features=n_chans1)\n",
    "        self.resblocks = nn.Sequential(*(n_blocks * [ResBlock(n_chans=n_chans1)]))\n",
    "        self.fc1 = nn.Linear(8 * 8 * n_chans1, 32)\n",
    "        self.fc2 = nn.Linear(32, 10)\n",
    "        \n",
    "    def forward(self, x):\n",
    "        out = self.conv1_batchnorm(self.conv1(x))\n",
    "        out = F.max_pool2d(torch.relu(out), 2)\n",
    "        out = self.resblocks(out)\n",
    "        out = F.max_pool2d(out, 2)\n",
    "        out = out.view(-1, 8 * 8 * self.n_chans1)\n",
    "        out = torch.relu(self.fc1(out))\n",
    "        out = self.fc2(out)\n",
    "        return out\n",
    "\n",
    "model = ResNet10BN(n_chans1=32, n_blocks=10).to(device=device)\n",
    "optimizer = optim.SGD(model.parameters(), lr=1e-3)\n",
    "loss_fn = nn.CrossEntropyLoss()\n",
    "numel_list = [p.numel() for p in model.parameters()]\n",
    "sum(numel_list), numel_list"
   ]
  },
  {
   "cell_type": "code",
   "execution_count": 6,
   "metadata": {
    "colab": {
     "base_uri": "https://localhost:8080/"
    },
    "id": "WBBlqLHoqDBG",
    "outputId": "c11666b9-9710-40b9-e653-acce4dfe5396"
   },
   "outputs": [
    {
     "name": "stdout",
     "output_type": "stream",
     "text": [
      "2022-03-30 21:09:07.727627 Epoch 1, Training loss 1.739211630028532\n",
      "2022-03-30 21:15:26.178385 Epoch 10, Training loss 1.0532149259391648\n",
      "2022-03-30 21:22:26.370348 Epoch 20, Training loss 0.8629854001352549\n",
      "2022-03-30 21:29:26.451919 Epoch 30, Training loss 0.7566835392085488\n",
      "2022-03-30 21:36:25.899890 Epoch 40, Training loss 0.6805283954686216\n",
      "2022-03-30 21:43:24.661432 Epoch 50, Training loss 0.616269504703829\n",
      "2022-03-30 21:50:24.177857 Epoch 60, Training loss 0.5594807895248198\n",
      "2022-03-30 21:57:23.085500 Epoch 70, Training loss 0.5070269143642367\n",
      "2022-03-30 22:04:23.770428 Epoch 80, Training loss 0.4627903158516835\n",
      "2022-03-30 22:11:24.766801 Epoch 90, Training loss 0.4157718768167069\n",
      "2022-03-30 22:18:25.196224 Epoch 100, Training loss 0.3731971138616657\n",
      "2022-03-30 22:25:25.867022 Epoch 110, Training loss 0.3373946008055716\n",
      "2022-03-30 22:32:26.742930 Epoch 120, Training loss 0.3065015178869295\n",
      "2022-03-30 22:39:27.628685 Epoch 130, Training loss 0.2700073010171466\n",
      "2022-03-30 22:46:29.777708 Epoch 140, Training loss 0.24071026730644124\n",
      "2022-03-30 22:53:31.890000 Epoch 150, Training loss 0.21249017346640833\n",
      "2022-03-30 23:00:33.775514 Epoch 160, Training loss 0.17989569077330173\n",
      "2022-03-30 23:07:35.954951 Epoch 170, Training loss 0.1648027102517731\n",
      "2022-03-30 23:14:37.245924 Epoch 180, Training loss 0.13890546164296738\n",
      "2022-03-30 23:21:37.666867 Epoch 190, Training loss 0.12519155081618777\n",
      "2022-03-30 23:28:39.109459 Epoch 200, Training loss 0.10958172145830777\n",
      "2022-03-30 23:35:42.363751 Epoch 210, Training loss 0.09618432440883135\n",
      "2022-03-30 23:42:45.076962 Epoch 220, Training loss 0.08022830935666704\n",
      "2022-03-30 23:49:47.426230 Epoch 230, Training loss 0.0688935794588893\n",
      "2022-03-30 23:56:49.254013 Epoch 240, Training loss 0.06529116949550046\n",
      "2022-03-31 00:03:50.420423 Epoch 250, Training loss 0.0538050621644358\n",
      "2022-03-31 00:10:52.898006 Epoch 260, Training loss 0.04922071192234926\n",
      "2022-03-31 00:17:57.441066 Epoch 270, Training loss 0.042654597687551664\n",
      "2022-03-31 00:25:01.670521 Epoch 280, Training loss 0.03610777976932218\n",
      "2022-03-31 00:32:03.524751 Epoch 290, Training loss 0.03667758525047889\n",
      "2022-03-31 00:39:05.462101 Epoch 300, Training loss 0.03347967932154984\n",
      "Training finished, took 12640.32s\n"
     ]
    }
   ],
   "source": [
    "#Training model\n",
    "training_loop(\n",
    "    n_epochs = 300,\n",
    "    optimizer = optimizer,\n",
    "    model = model,\n",
    "    loss_fn = loss_fn,\n",
    "    train_loader = train_loader,\n",
    ")"
   ]
  },
  {
   "cell_type": "code",
   "execution_count": 7,
   "metadata": {
    "colab": {
     "base_uri": "https://localhost:8080/"
    },
    "id": "wcZhPJkyWxaQ",
    "outputId": "34421b73-0e0f-4c1c-a612-573cf10eec50"
   },
   "outputs": [
    {
     "name": "stdout",
     "output_type": "stream",
     "text": [
      "Accuracy train: 0.87\n",
      "Accuracy val: 0.61\n"
     ]
    },
    {
     "data": {
      "text/plain": [
       "{'train': 0.86738, 'val': 0.6082}"
      ]
     },
     "execution_count": 7,
     "metadata": {},
     "output_type": "execute_result"
    }
   ],
   "source": [
    "validate(model,  acc_train_loader, val_loader)"
   ]
  }
 ],
 "metadata": {
  "accelerator": "GPU",
  "colab": {
   "collapsed_sections": [],
   "name": "Untitled0.ipynb",
   "provenance": []
  },
  "kernelspec": {
   "display_name": "Python 3 (ipykernel)",
   "language": "python",
   "name": "python3"
  },
  "language_info": {
   "codemirror_mode": {
    "name": "ipython",
    "version": 3
   },
   "file_extension": ".py",
   "mimetype": "text/x-python",
   "name": "python",
   "nbconvert_exporter": "python",
   "pygments_lexer": "ipython3",
   "version": "3.9.7"
  },
  "widgets": {
   "application/vnd.jupyter.widget-state+json": {
    "105feed8c8df4ba89452ca05943035e5": {
     "model_module": "@jupyter-widgets/base",
     "model_module_version": "1.2.0",
     "model_name": "LayoutModel",
     "state": {
      "_model_module": "@jupyter-widgets/base",
      "_model_module_version": "1.2.0",
      "_model_name": "LayoutModel",
      "_view_count": null,
      "_view_module": "@jupyter-widgets/base",
      "_view_module_version": "1.2.0",
      "_view_name": "LayoutView",
      "align_content": null,
      "align_items": null,
      "align_self": null,
      "border": null,
      "bottom": null,
      "display": null,
      "flex": null,
      "flex_flow": null,
      "grid_area": null,
      "grid_auto_columns": null,
      "grid_auto_flow": null,
      "grid_auto_rows": null,
      "grid_column": null,
      "grid_gap": null,
      "grid_row": null,
      "grid_template_areas": null,
      "grid_template_columns": null,
      "grid_template_rows": null,
      "height": null,
      "justify_content": null,
      "justify_items": null,
      "left": null,
      "margin": null,
      "max_height": null,
      "max_width": null,
      "min_height": null,
      "min_width": null,
      "object_fit": null,
      "object_position": null,
      "order": null,
      "overflow": null,
      "overflow_x": null,
      "overflow_y": null,
      "padding": null,
      "right": null,
      "top": null,
      "visibility": null,
      "width": null
     }
    },
    "21a5a09eece947ba9fc199ba9277a995": {
     "model_module": "@jupyter-widgets/controls",
     "model_module_version": "1.5.0",
     "model_name": "DescriptionStyleModel",
     "state": {
      "_model_module": "@jupyter-widgets/controls",
      "_model_module_version": "1.5.0",
      "_model_name": "DescriptionStyleModel",
      "_view_count": null,
      "_view_module": "@jupyter-widgets/base",
      "_view_module_version": "1.2.0",
      "_view_name": "StyleView",
      "description_width": ""
     }
    },
    "230bcd66c2c74de1a1cd57efa4b928c4": {
     "model_module": "@jupyter-widgets/controls",
     "model_module_version": "1.5.0",
     "model_name": "HTMLModel",
     "state": {
      "_dom_classes": [],
      "_model_module": "@jupyter-widgets/controls",
      "_model_module_version": "1.5.0",
      "_model_name": "HTMLModel",
      "_view_count": null,
      "_view_module": "@jupyter-widgets/controls",
      "_view_module_version": "1.5.0",
      "_view_name": "HTMLView",
      "description": "",
      "description_tooltip": null,
      "layout": "IPY_MODEL_cea55c5bd08b4bb89887db0a1e0ab3fd",
      "placeholder": "​",
      "style": "IPY_MODEL_21a5a09eece947ba9fc199ba9277a995",
      "value": ""
     }
    },
    "2a0b3a856340403392615809aef5b162": {
     "model_module": "@jupyter-widgets/controls",
     "model_module_version": "1.5.0",
     "model_name": "DescriptionStyleModel",
     "state": {
      "_model_module": "@jupyter-widgets/controls",
      "_model_module_version": "1.5.0",
      "_model_name": "DescriptionStyleModel",
      "_view_count": null,
      "_view_module": "@jupyter-widgets/base",
      "_view_module_version": "1.2.0",
      "_view_name": "StyleView",
      "description_width": ""
     }
    },
    "36b72cd1f9c9406ebaa88950b1d1bf77": {
     "model_module": "@jupyter-widgets/controls",
     "model_module_version": "1.5.0",
     "model_name": "HBoxModel",
     "state": {
      "_dom_classes": [],
      "_model_module": "@jupyter-widgets/controls",
      "_model_module_version": "1.5.0",
      "_model_name": "HBoxModel",
      "_view_count": null,
      "_view_module": "@jupyter-widgets/controls",
      "_view_module_version": "1.5.0",
      "_view_name": "HBoxView",
      "box_style": "",
      "children": [
       "IPY_MODEL_230bcd66c2c74de1a1cd57efa4b928c4",
       "IPY_MODEL_fe63913a2c274f4494b0ade858d2188a",
       "IPY_MODEL_68487f0f53664585b0fc0bf1a40dcb81"
      ],
      "layout": "IPY_MODEL_4569fe4eb4044b19a5f0d33936db35eb"
     }
    },
    "4569fe4eb4044b19a5f0d33936db35eb": {
     "model_module": "@jupyter-widgets/base",
     "model_module_version": "1.2.0",
     "model_name": "LayoutModel",
     "state": {
      "_model_module": "@jupyter-widgets/base",
      "_model_module_version": "1.2.0",
      "_model_name": "LayoutModel",
      "_view_count": null,
      "_view_module": "@jupyter-widgets/base",
      "_view_module_version": "1.2.0",
      "_view_name": "LayoutView",
      "align_content": null,
      "align_items": null,
      "align_self": null,
      "border": null,
      "bottom": null,
      "display": null,
      "flex": null,
      "flex_flow": null,
      "grid_area": null,
      "grid_auto_columns": null,
      "grid_auto_flow": null,
      "grid_auto_rows": null,
      "grid_column": null,
      "grid_gap": null,
      "grid_row": null,
      "grid_template_areas": null,
      "grid_template_columns": null,
      "grid_template_rows": null,
      "height": null,
      "justify_content": null,
      "justify_items": null,
      "left": null,
      "margin": null,
      "max_height": null,
      "max_width": null,
      "min_height": null,
      "min_width": null,
      "object_fit": null,
      "object_position": null,
      "order": null,
      "overflow": null,
      "overflow_x": null,
      "overflow_y": null,
      "padding": null,
      "right": null,
      "top": null,
      "visibility": null,
      "width": null
     }
    },
    "68487f0f53664585b0fc0bf1a40dcb81": {
     "model_module": "@jupyter-widgets/controls",
     "model_module_version": "1.5.0",
     "model_name": "HTMLModel",
     "state": {
      "_dom_classes": [],
      "_model_module": "@jupyter-widgets/controls",
      "_model_module_version": "1.5.0",
      "_model_name": "HTMLModel",
      "_view_count": null,
      "_view_module": "@jupyter-widgets/controls",
      "_view_module_version": "1.5.0",
      "_view_name": "HTMLView",
      "description": "",
      "description_tooltip": null,
      "layout": "IPY_MODEL_7e0c0d6066034063898fb8102ab70b90",
      "placeholder": "​",
      "style": "IPY_MODEL_2a0b3a856340403392615809aef5b162",
      "value": " 170499072/? [00:03&lt;00:00, 56216813.29it/s]"
     }
    },
    "7e0c0d6066034063898fb8102ab70b90": {
     "model_module": "@jupyter-widgets/base",
     "model_module_version": "1.2.0",
     "model_name": "LayoutModel",
     "state": {
      "_model_module": "@jupyter-widgets/base",
      "_model_module_version": "1.2.0",
      "_model_name": "LayoutModel",
      "_view_count": null,
      "_view_module": "@jupyter-widgets/base",
      "_view_module_version": "1.2.0",
      "_view_name": "LayoutView",
      "align_content": null,
      "align_items": null,
      "align_self": null,
      "border": null,
      "bottom": null,
      "display": null,
      "flex": null,
      "flex_flow": null,
      "grid_area": null,
      "grid_auto_columns": null,
      "grid_auto_flow": null,
      "grid_auto_rows": null,
      "grid_column": null,
      "grid_gap": null,
      "grid_row": null,
      "grid_template_areas": null,
      "grid_template_columns": null,
      "grid_template_rows": null,
      "height": null,
      "justify_content": null,
      "justify_items": null,
      "left": null,
      "margin": null,
      "max_height": null,
      "max_width": null,
      "min_height": null,
      "min_width": null,
      "object_fit": null,
      "object_position": null,
      "order": null,
      "overflow": null,
      "overflow_x": null,
      "overflow_y": null,
      "padding": null,
      "right": null,
      "top": null,
      "visibility": null,
      "width": null
     }
    },
    "bd9595fb99e14180b9cbfa8bb56ecd16": {
     "model_module": "@jupyter-widgets/controls",
     "model_module_version": "1.5.0",
     "model_name": "ProgressStyleModel",
     "state": {
      "_model_module": "@jupyter-widgets/controls",
      "_model_module_version": "1.5.0",
      "_model_name": "ProgressStyleModel",
      "_view_count": null,
      "_view_module": "@jupyter-widgets/base",
      "_view_module_version": "1.2.0",
      "_view_name": "StyleView",
      "bar_color": null,
      "description_width": ""
     }
    },
    "cea55c5bd08b4bb89887db0a1e0ab3fd": {
     "model_module": "@jupyter-widgets/base",
     "model_module_version": "1.2.0",
     "model_name": "LayoutModel",
     "state": {
      "_model_module": "@jupyter-widgets/base",
      "_model_module_version": "1.2.0",
      "_model_name": "LayoutModel",
      "_view_count": null,
      "_view_module": "@jupyter-widgets/base",
      "_view_module_version": "1.2.0",
      "_view_name": "LayoutView",
      "align_content": null,
      "align_items": null,
      "align_self": null,
      "border": null,
      "bottom": null,
      "display": null,
      "flex": null,
      "flex_flow": null,
      "grid_area": null,
      "grid_auto_columns": null,
      "grid_auto_flow": null,
      "grid_auto_rows": null,
      "grid_column": null,
      "grid_gap": null,
      "grid_row": null,
      "grid_template_areas": null,
      "grid_template_columns": null,
      "grid_template_rows": null,
      "height": null,
      "justify_content": null,
      "justify_items": null,
      "left": null,
      "margin": null,
      "max_height": null,
      "max_width": null,
      "min_height": null,
      "min_width": null,
      "object_fit": null,
      "object_position": null,
      "order": null,
      "overflow": null,
      "overflow_x": null,
      "overflow_y": null,
      "padding": null,
      "right": null,
      "top": null,
      "visibility": null,
      "width": null
     }
    },
    "fe63913a2c274f4494b0ade858d2188a": {
     "model_module": "@jupyter-widgets/controls",
     "model_module_version": "1.5.0",
     "model_name": "FloatProgressModel",
     "state": {
      "_dom_classes": [],
      "_model_module": "@jupyter-widgets/controls",
      "_model_module_version": "1.5.0",
      "_model_name": "FloatProgressModel",
      "_view_count": null,
      "_view_module": "@jupyter-widgets/controls",
      "_view_module_version": "1.5.0",
      "_view_name": "ProgressView",
      "bar_style": "success",
      "description": "",
      "description_tooltip": null,
      "layout": "IPY_MODEL_105feed8c8df4ba89452ca05943035e5",
      "max": 170498071,
      "min": 0,
      "orientation": "horizontal",
      "style": "IPY_MODEL_bd9595fb99e14180b9cbfa8bb56ecd16",
      "value": 170498071
     }
    }
   }
  }
 },
 "nbformat": 4,
 "nbformat_minor": 1
}
