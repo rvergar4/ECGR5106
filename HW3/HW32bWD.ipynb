{
  "nbformat": 4,
  "nbformat_minor": 0,
  "metadata": {
    "colab": {
      "name": "HW32bWD.ipynb",
      "provenance": [],
      "collapsed_sections": []
    },
    "kernelspec": {
      "name": "python3",
      "display_name": "Python 3"
    },
    "language_info": {
      "name": "python"
    },
    "accelerator": "GPU",
    "widgets": {
      "application/vnd.jupyter.widget-state+json": {
        "d87232682bcc4cae91290fce2e9a4a44": {
          "model_module": "@jupyter-widgets/controls",
          "model_name": "HBoxModel",
          "model_module_version": "1.5.0",
          "state": {
            "_dom_classes": [],
            "_model_module": "@jupyter-widgets/controls",
            "_model_module_version": "1.5.0",
            "_model_name": "HBoxModel",
            "_view_count": null,
            "_view_module": "@jupyter-widgets/controls",
            "_view_module_version": "1.5.0",
            "_view_name": "HBoxView",
            "box_style": "",
            "children": [
              "IPY_MODEL_4985acb92dbc41f18f0ca8909c1fc476",
              "IPY_MODEL_83b478550dea44e79141bb231a2bbb97",
              "IPY_MODEL_cae9f2e15141429da0d4f5e8f82c85ef"
            ],
            "layout": "IPY_MODEL_3847ba1649f2403792b41b89a87f81bf"
          }
        },
        "4985acb92dbc41f18f0ca8909c1fc476": {
          "model_module": "@jupyter-widgets/controls",
          "model_name": "HTMLModel",
          "model_module_version": "1.5.0",
          "state": {
            "_dom_classes": [],
            "_model_module": "@jupyter-widgets/controls",
            "_model_module_version": "1.5.0",
            "_model_name": "HTMLModel",
            "_view_count": null,
            "_view_module": "@jupyter-widgets/controls",
            "_view_module_version": "1.5.0",
            "_view_name": "HTMLView",
            "description": "",
            "description_tooltip": null,
            "layout": "IPY_MODEL_41f4a86df47e4c57af13d83846684e8a",
            "placeholder": "​",
            "style": "IPY_MODEL_2d207d91712b42628c677ab8594f525f",
            "value": ""
          }
        },
        "83b478550dea44e79141bb231a2bbb97": {
          "model_module": "@jupyter-widgets/controls",
          "model_name": "FloatProgressModel",
          "model_module_version": "1.5.0",
          "state": {
            "_dom_classes": [],
            "_model_module": "@jupyter-widgets/controls",
            "_model_module_version": "1.5.0",
            "_model_name": "FloatProgressModel",
            "_view_count": null,
            "_view_module": "@jupyter-widgets/controls",
            "_view_module_version": "1.5.0",
            "_view_name": "ProgressView",
            "bar_style": "success",
            "description": "",
            "description_tooltip": null,
            "layout": "IPY_MODEL_ec00ae83e9a545c4b724ce4984fc4c29",
            "max": 170498071,
            "min": 0,
            "orientation": "horizontal",
            "style": "IPY_MODEL_fb1ac62c994049eba52b23295db6878d",
            "value": 170498071
          }
        },
        "cae9f2e15141429da0d4f5e8f82c85ef": {
          "model_module": "@jupyter-widgets/controls",
          "model_name": "HTMLModel",
          "model_module_version": "1.5.0",
          "state": {
            "_dom_classes": [],
            "_model_module": "@jupyter-widgets/controls",
            "_model_module_version": "1.5.0",
            "_model_name": "HTMLModel",
            "_view_count": null,
            "_view_module": "@jupyter-widgets/controls",
            "_view_module_version": "1.5.0",
            "_view_name": "HTMLView",
            "description": "",
            "description_tooltip": null,
            "layout": "IPY_MODEL_0b8a39f287ad453b85f522f686d45acb",
            "placeholder": "​",
            "style": "IPY_MODEL_86c8b6af36014749a6b37b00e1deb1c0",
            "value": " 170499072/? [00:06&lt;00:00, 31012910.74it/s]"
          }
        },
        "3847ba1649f2403792b41b89a87f81bf": {
          "model_module": "@jupyter-widgets/base",
          "model_name": "LayoutModel",
          "model_module_version": "1.2.0",
          "state": {
            "_model_module": "@jupyter-widgets/base",
            "_model_module_version": "1.2.0",
            "_model_name": "LayoutModel",
            "_view_count": null,
            "_view_module": "@jupyter-widgets/base",
            "_view_module_version": "1.2.0",
            "_view_name": "LayoutView",
            "align_content": null,
            "align_items": null,
            "align_self": null,
            "border": null,
            "bottom": null,
            "display": null,
            "flex": null,
            "flex_flow": null,
            "grid_area": null,
            "grid_auto_columns": null,
            "grid_auto_flow": null,
            "grid_auto_rows": null,
            "grid_column": null,
            "grid_gap": null,
            "grid_row": null,
            "grid_template_areas": null,
            "grid_template_columns": null,
            "grid_template_rows": null,
            "height": null,
            "justify_content": null,
            "justify_items": null,
            "left": null,
            "margin": null,
            "max_height": null,
            "max_width": null,
            "min_height": null,
            "min_width": null,
            "object_fit": null,
            "object_position": null,
            "order": null,
            "overflow": null,
            "overflow_x": null,
            "overflow_y": null,
            "padding": null,
            "right": null,
            "top": null,
            "visibility": null,
            "width": null
          }
        },
        "41f4a86df47e4c57af13d83846684e8a": {
          "model_module": "@jupyter-widgets/base",
          "model_name": "LayoutModel",
          "model_module_version": "1.2.0",
          "state": {
            "_model_module": "@jupyter-widgets/base",
            "_model_module_version": "1.2.0",
            "_model_name": "LayoutModel",
            "_view_count": null,
            "_view_module": "@jupyter-widgets/base",
            "_view_module_version": "1.2.0",
            "_view_name": "LayoutView",
            "align_content": null,
            "align_items": null,
            "align_self": null,
            "border": null,
            "bottom": null,
            "display": null,
            "flex": null,
            "flex_flow": null,
            "grid_area": null,
            "grid_auto_columns": null,
            "grid_auto_flow": null,
            "grid_auto_rows": null,
            "grid_column": null,
            "grid_gap": null,
            "grid_row": null,
            "grid_template_areas": null,
            "grid_template_columns": null,
            "grid_template_rows": null,
            "height": null,
            "justify_content": null,
            "justify_items": null,
            "left": null,
            "margin": null,
            "max_height": null,
            "max_width": null,
            "min_height": null,
            "min_width": null,
            "object_fit": null,
            "object_position": null,
            "order": null,
            "overflow": null,
            "overflow_x": null,
            "overflow_y": null,
            "padding": null,
            "right": null,
            "top": null,
            "visibility": null,
            "width": null
          }
        },
        "2d207d91712b42628c677ab8594f525f": {
          "model_module": "@jupyter-widgets/controls",
          "model_name": "DescriptionStyleModel",
          "model_module_version": "1.5.0",
          "state": {
            "_model_module": "@jupyter-widgets/controls",
            "_model_module_version": "1.5.0",
            "_model_name": "DescriptionStyleModel",
            "_view_count": null,
            "_view_module": "@jupyter-widgets/base",
            "_view_module_version": "1.2.0",
            "_view_name": "StyleView",
            "description_width": ""
          }
        },
        "ec00ae83e9a545c4b724ce4984fc4c29": {
          "model_module": "@jupyter-widgets/base",
          "model_name": "LayoutModel",
          "model_module_version": "1.2.0",
          "state": {
            "_model_module": "@jupyter-widgets/base",
            "_model_module_version": "1.2.0",
            "_model_name": "LayoutModel",
            "_view_count": null,
            "_view_module": "@jupyter-widgets/base",
            "_view_module_version": "1.2.0",
            "_view_name": "LayoutView",
            "align_content": null,
            "align_items": null,
            "align_self": null,
            "border": null,
            "bottom": null,
            "display": null,
            "flex": null,
            "flex_flow": null,
            "grid_area": null,
            "grid_auto_columns": null,
            "grid_auto_flow": null,
            "grid_auto_rows": null,
            "grid_column": null,
            "grid_gap": null,
            "grid_row": null,
            "grid_template_areas": null,
            "grid_template_columns": null,
            "grid_template_rows": null,
            "height": null,
            "justify_content": null,
            "justify_items": null,
            "left": null,
            "margin": null,
            "max_height": null,
            "max_width": null,
            "min_height": null,
            "min_width": null,
            "object_fit": null,
            "object_position": null,
            "order": null,
            "overflow": null,
            "overflow_x": null,
            "overflow_y": null,
            "padding": null,
            "right": null,
            "top": null,
            "visibility": null,
            "width": null
          }
        },
        "fb1ac62c994049eba52b23295db6878d": {
          "model_module": "@jupyter-widgets/controls",
          "model_name": "ProgressStyleModel",
          "model_module_version": "1.5.0",
          "state": {
            "_model_module": "@jupyter-widgets/controls",
            "_model_module_version": "1.5.0",
            "_model_name": "ProgressStyleModel",
            "_view_count": null,
            "_view_module": "@jupyter-widgets/base",
            "_view_module_version": "1.2.0",
            "_view_name": "StyleView",
            "bar_color": null,
            "description_width": ""
          }
        },
        "0b8a39f287ad453b85f522f686d45acb": {
          "model_module": "@jupyter-widgets/base",
          "model_name": "LayoutModel",
          "model_module_version": "1.2.0",
          "state": {
            "_model_module": "@jupyter-widgets/base",
            "_model_module_version": "1.2.0",
            "_model_name": "LayoutModel",
            "_view_count": null,
            "_view_module": "@jupyter-widgets/base",
            "_view_module_version": "1.2.0",
            "_view_name": "LayoutView",
            "align_content": null,
            "align_items": null,
            "align_self": null,
            "border": null,
            "bottom": null,
            "display": null,
            "flex": null,
            "flex_flow": null,
            "grid_area": null,
            "grid_auto_columns": null,
            "grid_auto_flow": null,
            "grid_auto_rows": null,
            "grid_column": null,
            "grid_gap": null,
            "grid_row": null,
            "grid_template_areas": null,
            "grid_template_columns": null,
            "grid_template_rows": null,
            "height": null,
            "justify_content": null,
            "justify_items": null,
            "left": null,
            "margin": null,
            "max_height": null,
            "max_width": null,
            "min_height": null,
            "min_width": null,
            "object_fit": null,
            "object_position": null,
            "order": null,
            "overflow": null,
            "overflow_x": null,
            "overflow_y": null,
            "padding": null,
            "right": null,
            "top": null,
            "visibility": null,
            "width": null
          }
        },
        "86c8b6af36014749a6b37b00e1deb1c0": {
          "model_module": "@jupyter-widgets/controls",
          "model_name": "DescriptionStyleModel",
          "model_module_version": "1.5.0",
          "state": {
            "_model_module": "@jupyter-widgets/controls",
            "_model_module_version": "1.5.0",
            "_model_name": "DescriptionStyleModel",
            "_view_count": null,
            "_view_module": "@jupyter-widgets/base",
            "_view_module_version": "1.2.0",
            "_view_name": "StyleView",
            "description_width": ""
          }
        }
      }
    }
  },
  "cells": [
    {
      "cell_type": "code",
      "execution_count": 1,
      "metadata": {
        "colab": {
          "base_uri": "https://localhost:8080/"
        },
        "id": "r8oQFpk8ol-y",
        "outputId": "5f9b3cea-4a0d-4ddd-8f2b-df78c7facbce"
      },
      "outputs": [
        {
          "output_type": "stream",
          "name": "stdout",
          "text": [
            "Training on device cuda.\n"
          ]
        }
      ],
      "source": [
        "%matplotlib inline\n",
        "from matplotlib import pyplot as plt\n",
        "import numpy as np\n",
        "import collections\n",
        "import datetime\n",
        "import time\n",
        "\n",
        "import torch\n",
        "import torch.nn as nn\n",
        "import torch.nn.functional as F\n",
        "import torch.optim as optim\n",
        "from torchvision import datasets, transforms\n",
        "\n",
        "torch.set_printoptions(edgeitems=2)\n",
        "torch.manual_seed(123)\n",
        "\n",
        "device = (torch.device('cuda') if torch.cuda.is_available()\n",
        "          else torch.device('cpu'))\n",
        "print(f\"Training on device {device}.\")"
      ]
    },
    {
      "cell_type": "code",
      "source": [
        "#Setting up the data needed\n",
        "class_names = ['airplane','automobile','bird','cat','deer',\n",
        "'dog','frog','horse','ship','truck']\n",
        "#getting data\n",
        "data_path=\"C:/Users/rosam/OneDrive/Desktop/cifar-10-batches-py\"\n",
        "tensor_cifar10 = datasets.CIFAR10(data_path, train=True, download=True, \n",
        "                                  transform=transforms.Compose([\n",
        "                                                                transforms.ToTensor(),\n",
        "                                                                transforms.Normalize((0.4915, 0.4823, 0.4468), (0.2470, 0.2435, 0.2616))]))\n",
        "imgs = torch.stack([img_t for img_t, _ in tensor_cifar10], dim=3)\n",
        "#imgs.view(3, -1).mean(dim=1) => tensor([0.4914, 0.4822, 0.4465])\n",
        "#imgs.view(3, -1).std(dim=1) => tensor([0.2470, 0.2435, 0.2616])\n",
        "\n",
        "tensor_cifar10Val = datasets.CIFAR10(data_path, train=False, download=False, \n",
        "                                     transform=transforms.Compose([\n",
        "                                                                   transforms.ToTensor(),\n",
        "                                                                   transforms.Normalize((0.4942, 0.4851, 0.4504), (0.2467, 0.2429, 0.2616))]))\n",
        "imgsV = torch.stack([img_t for img_t, _ in tensor_cifar10Val], dim=3)\n",
        "#imgsV.view(3, -1).mean(dim=1) => tensor([0.4942, 0.4851, 0.4504])\n",
        "#imgsV.view(3, -1).std(dim=1) => tensor([0.2467, 0.2429, 0.2616])"
      ],
      "metadata": {
        "colab": {
          "base_uri": "https://localhost:8080/",
          "height": 104,
          "referenced_widgets": [
            "d87232682bcc4cae91290fce2e9a4a44",
            "4985acb92dbc41f18f0ca8909c1fc476",
            "83b478550dea44e79141bb231a2bbb97",
            "cae9f2e15141429da0d4f5e8f82c85ef",
            "3847ba1649f2403792b41b89a87f81bf",
            "41f4a86df47e4c57af13d83846684e8a",
            "2d207d91712b42628c677ab8594f525f",
            "ec00ae83e9a545c4b724ce4984fc4c29",
            "fb1ac62c994049eba52b23295db6878d",
            "0b8a39f287ad453b85f522f686d45acb",
            "86c8b6af36014749a6b37b00e1deb1c0"
          ]
        },
        "id": "cRiMJinAoqdT",
        "outputId": "a643b070-f634-409e-b258-e7fb2f9cd70a"
      },
      "execution_count": 2,
      "outputs": [
        {
          "output_type": "stream",
          "name": "stdout",
          "text": [
            "Downloading https://www.cs.toronto.edu/~kriz/cifar-10-python.tar.gz to C:/Users/rosam/OneDrive/Desktop/cifar-10-batches-py/cifar-10-python.tar.gz\n"
          ]
        },
        {
          "output_type": "display_data",
          "data": {
            "text/plain": [
              "  0%|          | 0/170498071 [00:00<?, ?it/s]"
            ],
            "application/vnd.jupyter.widget-view+json": {
              "version_major": 2,
              "version_minor": 0,
              "model_id": "d87232682bcc4cae91290fce2e9a4a44"
            }
          },
          "metadata": {}
        },
        {
          "output_type": "stream",
          "name": "stdout",
          "text": [
            "Extracting C:/Users/rosam/OneDrive/Desktop/cifar-10-batches-py/cifar-10-python.tar.gz to C:/Users/rosam/OneDrive/Desktop/cifar-10-batches-py\n"
          ]
        }
      ]
    },
    {
      "cell_type": "code",
      "source": [
        "#ResNet training for adding weight decay\n",
        "#Use ResNet10 model\n",
        "def training_loop_WD(n_epochs, optimizer, model, loss_fn,\n",
        "                        train_loader):\n",
        "    training_start_time = time.time()\n",
        "    for epoch in range(1, n_epochs + 1):\n",
        "        loss_train = 0.0\n",
        "        for imgs, labels in train_loader:\n",
        "            imgs = imgs.to(device=device)\n",
        "            labels = labels.to(device=device)\n",
        "            outputs = model(imgs)\n",
        "            loss = loss_fn(outputs, labels)\n",
        "\n",
        "            l2_lambda = 0.001\n",
        "            l2_norm = sum(p.pow(2.0).sum()\n",
        "                          for p in model.parameters())  # <1>\n",
        "            loss = loss + l2_lambda * l2_norm\n",
        "\n",
        "            optimizer.zero_grad()\n",
        "            loss.backward()\n",
        "            optimizer.step()\n",
        "            \n",
        "            loss_train += loss.item()\n",
        "        if epoch == 1 or epoch % 10 == 0:\n",
        "            print('{} Epoch {}, Training loss {}'.format(\n",
        "                datetime.datetime.now(), epoch,\n",
        "                loss_train / len(train_loader)))\n",
        "    print('Training finished, took {:.2f}s'.format(time.time() - training_start_time))\n",
        "\n",
        "#Defining function to validate accuracy\n",
        "def validate(model, train_loader, val_loader):\n",
        "    accdict = {}\n",
        "    for name, loader in [(\"train\", train_loader), (\"val\", val_loader)]:\n",
        "        correct = 0\n",
        "        total = 0\n",
        "\n",
        "        with torch.no_grad():\n",
        "            for imgs, labels in loader:\n",
        "                imgs = imgs.to(device=device)\n",
        "                labels = labels.to(device=device)\n",
        "                outputs = model(imgs)\n",
        "                _, predicted = torch.max(outputs, dim=1) # <1>\n",
        "                total += labels.shape[0]\n",
        "                correct += int((predicted == labels).sum())\n",
        "\n",
        "        print(\"Accuracy {}: {:.2f}\".format(name , correct / total))\n",
        "        accdict[name] = correct / total\n",
        "    return accdict"
      ],
      "metadata": {
        "id": "dKJ66C7wourl"
      },
      "execution_count": 3,
      "outputs": []
    },
    {
      "cell_type": "code",
      "source": [
        "#Setting up Dataloader\n",
        "#used for training, shuffle and oraganize data in minibatches\n",
        "train_loader = torch.utils.data.DataLoader(tensor_cifar10, batch_size=64,shuffle=True)\n",
        "#used for accuracy measurement\n",
        "val_loader = torch.utils.data.DataLoader(tensor_cifar10Val, batch_size=64, shuffle=False)\n",
        "acc_train_loader = torch.utils.data.DataLoader(tensor_cifar10, batch_size=64, shuffle=False)"
      ],
      "metadata": {
        "id": "iss7yQv7ovaK"
      },
      "execution_count": 4,
      "outputs": []
    },
    {
      "cell_type": "code",
      "source": [
        "#ResNet block\n",
        "class ResBlock(nn.Module):\n",
        "    def __init__(self, n_chans):\n",
        "        super(ResBlock, self).__init__()\n",
        "        self.conv = nn.Conv2d(n_chans, n_chans, kernel_size=3, padding=1, bias=False)\n",
        "        self.batch_norm = nn.BatchNorm2d(num_features=n_chans)\n",
        "        torch.nn.init.kaiming_normal_(self.conv.weight, nonlinearity='relu')\n",
        "        torch.nn.init.constant_(self.batch_norm.weight, 0.5)\n",
        "        torch.nn.init.zeros_(self.batch_norm.bias)\n",
        "\n",
        "    def forward(self, x):\n",
        "        out = self.conv(x)\n",
        "        out = self.batch_norm(out)\n",
        "        out = torch.relu(out)\n",
        "        return out + x\n",
        "\n",
        "#ResNet model\n",
        "class ResNet10(nn.Module):\n",
        "    def __init__(self, n_chans1=32, n_blocks=10):\n",
        "        super().__init__()\n",
        "        self.n_chans1 = n_chans1\n",
        "        self.conv1 = nn.Conv2d(3, n_chans1, kernel_size=3, padding=1)\n",
        "        self.resblocks = nn.Sequential(*(n_blocks * [ResBlock(n_chans=n_chans1)]))\n",
        "        self.fc1 = nn.Linear(8 * 8 * n_chans1, 32)\n",
        "        self.fc2 = nn.Linear(32, 10)\n",
        "        \n",
        "    def forward(self, x):\n",
        "        out = F.max_pool2d(torch.relu(self.conv1(x)), 2)\n",
        "        out = self.resblocks(out)\n",
        "        out = F.max_pool2d(out, 2)\n",
        "        out = out.view(-1, 8 * 8 * self.n_chans1)\n",
        "        out = torch.relu(self.fc1(out))\n",
        "        out = self.fc2(out)\n",
        "        return out\n",
        "\n",
        "model =  ResNet10(n_chans1=32, n_blocks=10).to(device=device)\n",
        "optimizer = optim.SGD(model.parameters(), lr=1e-3)\n",
        "loss_fn = nn.CrossEntropyLoss()\n",
        "#Size of model\n",
        "numel_list = [p.numel() for p in model.parameters()]\n",
        "sum(numel_list), numel_list"
      ],
      "metadata": {
        "colab": {
          "base_uri": "https://localhost:8080/"
        },
        "id": "Dn1oMhBSoxzS",
        "outputId": "d1f0ca21-98a6-42bf-cde5-d8046bd01571"
      },
      "execution_count": 5,
      "outputs": [
        {
          "output_type": "execute_result",
          "data": {
            "text/plain": [
              "(76074, [864, 32, 9216, 32, 32, 65536, 32, 320, 10])"
            ]
          },
          "metadata": {},
          "execution_count": 5
        }
      ]
    },
    {
      "cell_type": "code",
      "source": [
        "training_loop_WD(\n",
        "    n_epochs = 300,\n",
        "    optimizer = optimizer,\n",
        "    model = model,\n",
        "    loss_fn = loss_fn,\n",
        "    train_loader = train_loader,\n",
        ")"
      ],
      "metadata": {
        "colab": {
          "base_uri": "https://localhost:8080/"
        },
        "id": "KWzM6XYKpKEJ",
        "outputId": "5284b4b4-82bd-492e-901a-aa638fab6e15"
      },
      "execution_count": 6,
      "outputs": [
        {
          "output_type": "stream",
          "name": "stdout",
          "text": [
            "2022-03-30 21:09:46.337679 Epoch 1, Training loss 1.8742518589624664\n",
            "2022-03-30 21:16:17.023369 Epoch 10, Training loss 1.188954090828176\n",
            "2022-03-30 21:23:28.312102 Epoch 20, Training loss 0.9812968999071194\n",
            "2022-03-30 21:30:38.597176 Epoch 30, Training loss 0.8571398002869638\n",
            "2022-03-30 21:37:49.445415 Epoch 40, Training loss 0.7673872204311668\n",
            "2022-03-30 21:44:59.600929 Epoch 50, Training loss 0.6983939158489637\n",
            "2022-03-30 21:52:08.851069 Epoch 60, Training loss 0.6387291414963315\n",
            "2022-03-30 21:59:17.797558 Epoch 70, Training loss 0.5820658166923791\n",
            "2022-03-30 22:06:28.041871 Epoch 80, Training loss 0.5360758844620127\n",
            "2022-03-30 22:13:36.220965 Epoch 90, Training loss 0.4912638781625596\n",
            "2022-03-30 22:20:44.719023 Epoch 100, Training loss 0.45131040267322375\n",
            "2022-03-30 22:27:56.805827 Epoch 110, Training loss 0.4134503111167027\n",
            "2022-03-30 22:35:09.825251 Epoch 120, Training loss 0.38932373325157044\n",
            "2022-03-30 22:42:22.227369 Epoch 130, Training loss 0.356737741652657\n",
            "2022-03-30 22:49:34.899431 Epoch 140, Training loss 0.3263184773685682\n",
            "2022-03-30 22:56:47.818352 Epoch 150, Training loss 0.3054489207161052\n",
            "2022-03-30 23:03:58.744279 Epoch 160, Training loss 0.2812411132675912\n",
            "2022-03-30 23:11:09.401025 Epoch 170, Training loss 0.26463042165312317\n",
            "2022-03-30 23:18:20.198020 Epoch 180, Training loss 0.2499506965546352\n",
            "2022-03-30 23:25:30.818633 Epoch 190, Training loss 0.23681095419713602\n",
            "2022-03-30 23:32:41.617360 Epoch 200, Training loss 0.22205054617065298\n",
            "2022-03-30 23:39:52.230623 Epoch 210, Training loss 0.2196272051204806\n",
            "2022-03-30 23:46:58.930335 Epoch 220, Training loss 0.20307152060901418\n",
            "2022-03-30 23:54:01.198333 Epoch 230, Training loss 0.19393957850268428\n",
            "2022-03-31 00:01:02.603036 Epoch 240, Training loss 0.19252171916196414\n",
            "2022-03-31 00:08:00.355086 Epoch 250, Training loss 0.18710430052198107\n",
            "2022-03-31 00:14:54.348613 Epoch 260, Training loss 0.17399108047832917\n",
            "2022-03-31 00:21:52.242602 Epoch 270, Training loss 0.16674565135136896\n",
            "2022-03-31 00:28:51.910364 Epoch 280, Training loss 0.17505644317097066\n",
            "2022-03-31 00:35:51.841896 Epoch 290, Training loss 0.1638749114349675\n",
            "2022-03-31 00:42:53.557018 Epoch 300, Training loss 0.15730366307070187\n",
            "Training finished, took 12830.61s\n"
          ]
        }
      ]
    },
    {
      "cell_type": "code",
      "source": [
        "validate(model,  acc_train_loader, val_loader)"
      ],
      "metadata": {
        "colab": {
          "base_uri": "https://localhost:8080/"
        },
        "id": "JO-bOKH2W_IY",
        "outputId": "77898607-e2e3-47d5-f249-9ffccb9ca15c"
      },
      "execution_count": 7,
      "outputs": [
        {
          "output_type": "stream",
          "name": "stdout",
          "text": [
            "Accuracy train: 0.98\n",
            "Accuracy val: 0.64\n"
          ]
        },
        {
          "output_type": "execute_result",
          "data": {
            "text/plain": [
              "{'train': 0.9793, 'val': 0.6395}"
            ]
          },
          "metadata": {},
          "execution_count": 7
        }
      ]
    }
  ]
}