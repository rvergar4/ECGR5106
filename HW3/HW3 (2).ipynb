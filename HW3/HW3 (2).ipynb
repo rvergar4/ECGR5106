{
  "nbformat": 4,
  "nbformat_minor": 0,
  "metadata": {
    "colab": {
      "name": "HW3.ipynb",
      "provenance": [],
      "collapsed_sections": []
    },
    "kernelspec": {
      "name": "python3",
      "display_name": "Python 3"
    },
    "language_info": {
      "name": "python"
    },
    "widgets": {
      "application/vnd.jupyter.widget-state+json": {
        "12bc9c1aba054367afc97aedc53d54d8": {
          "model_module": "@jupyter-widgets/controls",
          "model_name": "HBoxModel",
          "model_module_version": "1.5.0",
          "state": {
            "_dom_classes": [],
            "_model_module": "@jupyter-widgets/controls",
            "_model_module_version": "1.5.0",
            "_model_name": "HBoxModel",
            "_view_count": null,
            "_view_module": "@jupyter-widgets/controls",
            "_view_module_version": "1.5.0",
            "_view_name": "HBoxView",
            "box_style": "",
            "children": [
              "IPY_MODEL_4097a319f3fd4930ad3f692e56f17a70",
              "IPY_MODEL_938042f2bb2c4ca3b587b743907e293a",
              "IPY_MODEL_7ec6783454104ff78229778bdb1046fb"
            ],
            "layout": "IPY_MODEL_073cb2b865934b66891b2a06e86380d7"
          }
        },
        "4097a319f3fd4930ad3f692e56f17a70": {
          "model_module": "@jupyter-widgets/controls",
          "model_name": "HTMLModel",
          "model_module_version": "1.5.0",
          "state": {
            "_dom_classes": [],
            "_model_module": "@jupyter-widgets/controls",
            "_model_module_version": "1.5.0",
            "_model_name": "HTMLModel",
            "_view_count": null,
            "_view_module": "@jupyter-widgets/controls",
            "_view_module_version": "1.5.0",
            "_view_name": "HTMLView",
            "description": "",
            "description_tooltip": null,
            "layout": "IPY_MODEL_f66a1a060d9d4c09a37ffa56da24be4b",
            "placeholder": "​",
            "style": "IPY_MODEL_a2121c0f892c40d8a7ce07b6625b15fe",
            "value": ""
          }
        },
        "938042f2bb2c4ca3b587b743907e293a": {
          "model_module": "@jupyter-widgets/controls",
          "model_name": "FloatProgressModel",
          "model_module_version": "1.5.0",
          "state": {
            "_dom_classes": [],
            "_model_module": "@jupyter-widgets/controls",
            "_model_module_version": "1.5.0",
            "_model_name": "FloatProgressModel",
            "_view_count": null,
            "_view_module": "@jupyter-widgets/controls",
            "_view_module_version": "1.5.0",
            "_view_name": "ProgressView",
            "bar_style": "success",
            "description": "",
            "description_tooltip": null,
            "layout": "IPY_MODEL_192870e4c02a4eb499988ef9b5bec438",
            "max": 170498071,
            "min": 0,
            "orientation": "horizontal",
            "style": "IPY_MODEL_94aa8e2783aa4baf94879477d9028463",
            "value": 170498071
          }
        },
        "7ec6783454104ff78229778bdb1046fb": {
          "model_module": "@jupyter-widgets/controls",
          "model_name": "HTMLModel",
          "model_module_version": "1.5.0",
          "state": {
            "_dom_classes": [],
            "_model_module": "@jupyter-widgets/controls",
            "_model_module_version": "1.5.0",
            "_model_name": "HTMLModel",
            "_view_count": null,
            "_view_module": "@jupyter-widgets/controls",
            "_view_module_version": "1.5.0",
            "_view_name": "HTMLView",
            "description": "",
            "description_tooltip": null,
            "layout": "IPY_MODEL_94839cd8c9954d3996b7966b64e6f1f1",
            "placeholder": "​",
            "style": "IPY_MODEL_1b97275753cc4a55a0cd3c63ae3a7277",
            "value": " 170499072/? [00:04&lt;00:00, 49319047.63it/s]"
          }
        },
        "073cb2b865934b66891b2a06e86380d7": {
          "model_module": "@jupyter-widgets/base",
          "model_name": "LayoutModel",
          "model_module_version": "1.2.0",
          "state": {
            "_model_module": "@jupyter-widgets/base",
            "_model_module_version": "1.2.0",
            "_model_name": "LayoutModel",
            "_view_count": null,
            "_view_module": "@jupyter-widgets/base",
            "_view_module_version": "1.2.0",
            "_view_name": "LayoutView",
            "align_content": null,
            "align_items": null,
            "align_self": null,
            "border": null,
            "bottom": null,
            "display": null,
            "flex": null,
            "flex_flow": null,
            "grid_area": null,
            "grid_auto_columns": null,
            "grid_auto_flow": null,
            "grid_auto_rows": null,
            "grid_column": null,
            "grid_gap": null,
            "grid_row": null,
            "grid_template_areas": null,
            "grid_template_columns": null,
            "grid_template_rows": null,
            "height": null,
            "justify_content": null,
            "justify_items": null,
            "left": null,
            "margin": null,
            "max_height": null,
            "max_width": null,
            "min_height": null,
            "min_width": null,
            "object_fit": null,
            "object_position": null,
            "order": null,
            "overflow": null,
            "overflow_x": null,
            "overflow_y": null,
            "padding": null,
            "right": null,
            "top": null,
            "visibility": null,
            "width": null
          }
        },
        "f66a1a060d9d4c09a37ffa56da24be4b": {
          "model_module": "@jupyter-widgets/base",
          "model_name": "LayoutModel",
          "model_module_version": "1.2.0",
          "state": {
            "_model_module": "@jupyter-widgets/base",
            "_model_module_version": "1.2.0",
            "_model_name": "LayoutModel",
            "_view_count": null,
            "_view_module": "@jupyter-widgets/base",
            "_view_module_version": "1.2.0",
            "_view_name": "LayoutView",
            "align_content": null,
            "align_items": null,
            "align_self": null,
            "border": null,
            "bottom": null,
            "display": null,
            "flex": null,
            "flex_flow": null,
            "grid_area": null,
            "grid_auto_columns": null,
            "grid_auto_flow": null,
            "grid_auto_rows": null,
            "grid_column": null,
            "grid_gap": null,
            "grid_row": null,
            "grid_template_areas": null,
            "grid_template_columns": null,
            "grid_template_rows": null,
            "height": null,
            "justify_content": null,
            "justify_items": null,
            "left": null,
            "margin": null,
            "max_height": null,
            "max_width": null,
            "min_height": null,
            "min_width": null,
            "object_fit": null,
            "object_position": null,
            "order": null,
            "overflow": null,
            "overflow_x": null,
            "overflow_y": null,
            "padding": null,
            "right": null,
            "top": null,
            "visibility": null,
            "width": null
          }
        },
        "a2121c0f892c40d8a7ce07b6625b15fe": {
          "model_module": "@jupyter-widgets/controls",
          "model_name": "DescriptionStyleModel",
          "model_module_version": "1.5.0",
          "state": {
            "_model_module": "@jupyter-widgets/controls",
            "_model_module_version": "1.5.0",
            "_model_name": "DescriptionStyleModel",
            "_view_count": null,
            "_view_module": "@jupyter-widgets/base",
            "_view_module_version": "1.2.0",
            "_view_name": "StyleView",
            "description_width": ""
          }
        },
        "192870e4c02a4eb499988ef9b5bec438": {
          "model_module": "@jupyter-widgets/base",
          "model_name": "LayoutModel",
          "model_module_version": "1.2.0",
          "state": {
            "_model_module": "@jupyter-widgets/base",
            "_model_module_version": "1.2.0",
            "_model_name": "LayoutModel",
            "_view_count": null,
            "_view_module": "@jupyter-widgets/base",
            "_view_module_version": "1.2.0",
            "_view_name": "LayoutView",
            "align_content": null,
            "align_items": null,
            "align_self": null,
            "border": null,
            "bottom": null,
            "display": null,
            "flex": null,
            "flex_flow": null,
            "grid_area": null,
            "grid_auto_columns": null,
            "grid_auto_flow": null,
            "grid_auto_rows": null,
            "grid_column": null,
            "grid_gap": null,
            "grid_row": null,
            "grid_template_areas": null,
            "grid_template_columns": null,
            "grid_template_rows": null,
            "height": null,
            "justify_content": null,
            "justify_items": null,
            "left": null,
            "margin": null,
            "max_height": null,
            "max_width": null,
            "min_height": null,
            "min_width": null,
            "object_fit": null,
            "object_position": null,
            "order": null,
            "overflow": null,
            "overflow_x": null,
            "overflow_y": null,
            "padding": null,
            "right": null,
            "top": null,
            "visibility": null,
            "width": null
          }
        },
        "94aa8e2783aa4baf94879477d9028463": {
          "model_module": "@jupyter-widgets/controls",
          "model_name": "ProgressStyleModel",
          "model_module_version": "1.5.0",
          "state": {
            "_model_module": "@jupyter-widgets/controls",
            "_model_module_version": "1.5.0",
            "_model_name": "ProgressStyleModel",
            "_view_count": null,
            "_view_module": "@jupyter-widgets/base",
            "_view_module_version": "1.2.0",
            "_view_name": "StyleView",
            "bar_color": null,
            "description_width": ""
          }
        },
        "94839cd8c9954d3996b7966b64e6f1f1": {
          "model_module": "@jupyter-widgets/base",
          "model_name": "LayoutModel",
          "model_module_version": "1.2.0",
          "state": {
            "_model_module": "@jupyter-widgets/base",
            "_model_module_version": "1.2.0",
            "_model_name": "LayoutModel",
            "_view_count": null,
            "_view_module": "@jupyter-widgets/base",
            "_view_module_version": "1.2.0",
            "_view_name": "LayoutView",
            "align_content": null,
            "align_items": null,
            "align_self": null,
            "border": null,
            "bottom": null,
            "display": null,
            "flex": null,
            "flex_flow": null,
            "grid_area": null,
            "grid_auto_columns": null,
            "grid_auto_flow": null,
            "grid_auto_rows": null,
            "grid_column": null,
            "grid_gap": null,
            "grid_row": null,
            "grid_template_areas": null,
            "grid_template_columns": null,
            "grid_template_rows": null,
            "height": null,
            "justify_content": null,
            "justify_items": null,
            "left": null,
            "margin": null,
            "max_height": null,
            "max_width": null,
            "min_height": null,
            "min_width": null,
            "object_fit": null,
            "object_position": null,
            "order": null,
            "overflow": null,
            "overflow_x": null,
            "overflow_y": null,
            "padding": null,
            "right": null,
            "top": null,
            "visibility": null,
            "width": null
          }
        },
        "1b97275753cc4a55a0cd3c63ae3a7277": {
          "model_module": "@jupyter-widgets/controls",
          "model_name": "DescriptionStyleModel",
          "model_module_version": "1.5.0",
          "state": {
            "_model_module": "@jupyter-widgets/controls",
            "_model_module_version": "1.5.0",
            "_model_name": "DescriptionStyleModel",
            "_view_count": null,
            "_view_module": "@jupyter-widgets/base",
            "_view_module_version": "1.2.0",
            "_view_name": "StyleView",
            "description_width": ""
          }
        }
      }
    },
    "accelerator": "GPU"
  },
  "cells": [
    {
      "cell_type": "code",
      "execution_count": 1,
      "metadata": {
        "colab": {
          "base_uri": "https://localhost:8080/"
        },
        "id": "x240oCRVCSVN",
        "outputId": "4e4a1a15-1c60-4935-f4cf-54827d1c8aea"
      },
      "outputs": [
        {
          "output_type": "stream",
          "name": "stdout",
          "text": [
            "Training on device cuda.\n"
          ]
        }
      ],
      "source": [
        "%matplotlib inline\n",
        "from matplotlib import pyplot as plt\n",
        "import numpy as np\n",
        "import collections\n",
        "import datetime\n",
        "import time\n",
        "\n",
        "import torch\n",
        "import torch.nn as nn\n",
        "import torch.nn.functional as F\n",
        "import torch.optim as optim\n",
        "from torchvision import datasets, transforms\n",
        "\n",
        "torch.set_printoptions(edgeitems=2)\n",
        "torch.manual_seed(123)\n",
        "\n",
        "#setting device type\n",
        "device = (torch.device('cuda') if torch.cuda.is_available()\n",
        "          else torch.device('cpu'))\n",
        "print(f\"Training on device {device}.\")"
      ]
    },
    {
      "cell_type": "code",
      "source": [
        "#Setting up the data needed\n",
        "class_names = ['airplane','automobile','bird','cat','deer',\n",
        "'dog','frog','horse','ship','truck']\n",
        "#getting data\n",
        "data_path=\"C:/Users/rosam/OneDrive/Desktop/cifar-10-batches-py\"\n",
        "tensor_cifar10 = datasets.CIFAR10(data_path, train=True, download=True, \n",
        "                                  transform=transforms.Compose([\n",
        "                                                                transforms.ToTensor(),\n",
        "                                                                transforms.Normalize((0.4915, 0.4823, 0.4468), (0.2470, 0.2435, 0.2616))]))\n",
        "imgs = torch.stack([img_t for img_t, _ in tensor_cifar10], dim=3)\n",
        "#imgs.view(3, -1).mean(dim=1) => tensor([0.4914, 0.4822, 0.4465])\n",
        "#imgs.view(3, -1).std(dim=1) => tensor([0.2470, 0.2435, 0.2616])\n",
        "\n",
        "tensor_cifar10Val = datasets.CIFAR10(data_path, train=False, download=False, \n",
        "                                     transform=transforms.Compose([\n",
        "                                                                   transforms.ToTensor(),\n",
        "                                                                   transforms.Normalize((0.4942, 0.4851, 0.4504), (0.2467, 0.2429, 0.2616))]))\n",
        "imgsV = torch.stack([img_t for img_t, _ in tensor_cifar10Val], dim=3)\n",
        "#imgsV.view(3, -1).mean(dim=1) => tensor([0.4942, 0.4851, 0.4504])\n",
        "#imgsV.view(3, -1).std(dim=1) => tensor([0.2467, 0.2429, 0.2616])\n"
      ],
      "metadata": {
        "colab": {
          "base_uri": "https://localhost:8080/",
          "height": 104,
          "referenced_widgets": [
            "12bc9c1aba054367afc97aedc53d54d8",
            "4097a319f3fd4930ad3f692e56f17a70",
            "938042f2bb2c4ca3b587b743907e293a",
            "7ec6783454104ff78229778bdb1046fb",
            "073cb2b865934b66891b2a06e86380d7",
            "f66a1a060d9d4c09a37ffa56da24be4b",
            "a2121c0f892c40d8a7ce07b6625b15fe",
            "192870e4c02a4eb499988ef9b5bec438",
            "94aa8e2783aa4baf94879477d9028463",
            "94839cd8c9954d3996b7966b64e6f1f1",
            "1b97275753cc4a55a0cd3c63ae3a7277"
          ]
        },
        "outputId": "5051392e-23f4-4e4a-c4f7-805388317adb",
        "id": "GUNTgwX_uDO5"
      },
      "execution_count": 2,
      "outputs": [
        {
          "output_type": "stream",
          "name": "stdout",
          "text": [
            "Downloading https://www.cs.toronto.edu/~kriz/cifar-10-python.tar.gz to C:/Users/rosam/OneDrive/Desktop/cifar-10-batches-py/cifar-10-python.tar.gz\n"
          ]
        },
        {
          "output_type": "display_data",
          "data": {
            "text/plain": [
              "  0%|          | 0/170498071 [00:00<?, ?it/s]"
            ],
            "application/vnd.jupyter.widget-view+json": {
              "version_major": 2,
              "version_minor": 0,
              "model_id": "12bc9c1aba054367afc97aedc53d54d8"
            }
          },
          "metadata": {}
        },
        {
          "output_type": "stream",
          "name": "stdout",
          "text": [
            "Extracting C:/Users/rosam/OneDrive/Desktop/cifar-10-batches-py/cifar-10-python.tar.gz to C:/Users/rosam/OneDrive/Desktop/cifar-10-batches-py\n"
          ]
        }
      ]
    },
    {
      "cell_type": "code",
      "source": [
        "#Defining training loop\n",
        "def training_loop(n_epochs, optimizer, model, loss_fn, train_loader):\n",
        "    training_start_time = time.time()\n",
        "    for epoch in range(1, n_epochs + 1):\n",
        "        loss_train = 0.0\n",
        "        for imgs, labels in train_loader:\n",
        "            imgs = imgs.to(device=device)  # <1>\n",
        "            labels = labels.to(device=device)\n",
        "            outputs = model(imgs)\n",
        "            loss = loss_fn(outputs, labels)\n",
        "\n",
        "            optimizer.zero_grad()\n",
        "            loss.backward()\n",
        "            optimizer.step()\n",
        "\n",
        "            loss_train += loss.item()\n",
        "\n",
        "        if epoch == 1 or epoch % 10 == 0:\n",
        "            print('{} Epoch {}, Training loss {}'.format(\n",
        "                datetime.datetime.now(), epoch,\n",
        "                loss_train / len(train_loader)))\n",
        "    print('Training finished, took {:.2f}s'.format(time.time() - training_start_time))\n",
        "\n",
        "#Defining function to validate accuracy\n",
        "def validate(model, train_loader, val_loader):\n",
        "    accdict = {}\n",
        "    for name, loader in [(\"train\", train_loader), (\"val\", val_loader)]:\n",
        "        correct = 0\n",
        "        total = 0\n",
        "\n",
        "        with torch.no_grad():\n",
        "            for imgs, labels in loader:\n",
        "                imgs = imgs.to(device=device)\n",
        "                labels = labels.to(device=device)\n",
        "                outputs = model(imgs)\n",
        "                _, predicted = torch.max(outputs, dim=1) # <1>\n",
        "                total += labels.shape[0]\n",
        "                correct += int((predicted == labels).sum())\n",
        "\n",
        "        print(\"Accuracy {}: {:.2f}\".format(name , correct / total))\n",
        "        accdict[name] = correct / total\n",
        "    return accdict"
      ],
      "metadata": {
        "id": "XW1K0pkzBo3G"
      },
      "execution_count": 3,
      "outputs": []
    },
    {
      "cell_type": "code",
      "source": [
        "#Setting up Dataloader\n",
        "#used for training, shuffle and oraganize data in minibatches\n",
        "train_loader = torch.utils.data.DataLoader(tensor_cifar10, batch_size=64,shuffle=True)\n",
        "#used for accuracy measurement\n",
        "val_loader = torch.utils.data.DataLoader(tensor_cifar10Val, batch_size=64, shuffle=False)\n",
        "acc_train_loader = torch.utils.data.DataLoader(tensor_cifar10, batch_size=64, shuffle=False)"
      ],
      "metadata": {
        "id": "1O1Srg6Xb3fn"
      },
      "execution_count": 4,
      "outputs": []
    },
    {
      "cell_type": "code",
      "source": [
        "#Problem 1\n",
        "#Defineing model for Problem 1a\n",
        "#num items in dataset=50000\n",
        "#input 32 × 32 × 3: 3,072\n",
        "class Net(nn.Module):\n",
        "    def __init__(self):\n",
        "        super().__init__()\n",
        "        self.conv1 = nn.Conv2d(3, 16, kernel_size=3, padding=1) #3x16x3x3\n",
        "        self.conv2 = nn.Conv2d(16, 8, kernel_size=3, padding=1) #16x8x3x3\n",
        "        self.fc1 = nn.Linear(8 * 8 * 8, 32) #8x8x8x32\n",
        "        self.fc2 = nn.Linear(32, 10) #32x2\n",
        "        \n",
        "    def forward(self, x):\n",
        "        out = F.max_pool2d(torch.tanh(self.conv1(x)), 2)\n",
        "        out = F.max_pool2d(torch.tanh(self.conv2(out)), 2)\n",
        "        out = out.view(-1, 8 * 8 * 8)\n",
        "        out = torch.tanh(self.fc1(out))\n",
        "        out = self.fc2(out)\n",
        "        return out\n",
        "\n",
        "model = Net().to(device=device)\n",
        "numel_list = [p.numel() for p in model.parameters()]\n",
        "sum(numel_list), numel_list"
      ],
      "metadata": {
        "id": "krMlYyzKn8YE",
        "colab": {
          "base_uri": "https://localhost:8080/"
        },
        "outputId": "11a740f8-1d1b-4058-946d-84db4ed83c25"
      },
      "execution_count": null,
      "outputs": [
        {
          "output_type": "execute_result",
          "data": {
            "text/plain": [
              "(18354, [432, 16, 1152, 8, 16384, 32, 320, 10])"
            ]
          },
          "metadata": {},
          "execution_count": 17
        }
      ]
    },
    {
      "cell_type": "code",
      "source": [
        "#training model for 1a\n",
        "model = Net().to(device=device)\n",
        "optimizer = optim.SGD(model.parameters(), lr=1e-2)\n",
        "loss_fn = nn.CrossEntropyLoss()\n",
        "\n",
        "training_loop(\n",
        "    n_epochs = 300,\n",
        "    optimizer = optimizer,\n",
        "    model = model,\n",
        "    loss_fn = loss_fn,\n",
        "    train_loader = train_loader,\n",
        ")"
      ],
      "metadata": {
        "colab": {
          "base_uri": "https://localhost:8080/"
        },
        "id": "4nUMiGcv7iV7",
        "outputId": "373fcae8-9140-4cb7-a5f1-5c6425b47f05"
      },
      "execution_count": null,
      "outputs": [
        {
          "output_type": "stream",
          "name": "stdout",
          "text": [
            "2022-03-28 20:00:34.111138 Epoch 1, Training loss 2.037649637597906\n",
            "2022-03-28 20:02:59.528904 Epoch 10, Training loss 1.219499758289903\n",
            "2022-03-28 20:05:41.408326 Epoch 20, Training loss 1.0314267439305629\n",
            "2022-03-28 20:08:23.926600 Epoch 30, Training loss 0.9454076143024522\n",
            "2022-03-28 20:11:05.828766 Epoch 40, Training loss 0.8827333868769429\n",
            "2022-03-28 20:13:47.833637 Epoch 50, Training loss 0.8358079930553046\n",
            "2022-03-28 20:16:29.723876 Epoch 60, Training loss 0.800618650625124\n",
            "2022-03-28 20:19:11.541624 Epoch 70, Training loss 0.7716244308235091\n",
            "2022-03-28 20:21:53.670740 Epoch 80, Training loss 0.7481452699207589\n",
            "2022-03-28 20:24:35.477998 Epoch 90, Training loss 0.7264577435410541\n",
            "2022-03-28 20:27:17.204272 Epoch 100, Training loss 0.709950475512868\n",
            "2022-03-28 20:29:59.024475 Epoch 110, Training loss 0.6931796381845499\n",
            "2022-03-28 20:32:40.918900 Epoch 120, Training loss 0.6792315020585609\n",
            "2022-03-28 20:35:22.580519 Epoch 130, Training loss 0.6654227005551233\n",
            "2022-03-28 20:38:04.283694 Epoch 140, Training loss 0.6536138025696016\n",
            "2022-03-28 20:40:46.589405 Epoch 150, Training loss 0.6418177749952088\n",
            "2022-03-28 20:43:28.148583 Epoch 160, Training loss 0.6328624902326433\n",
            "2022-03-28 20:46:09.610526 Epoch 170, Training loss 0.6236773765148105\n",
            "2022-03-28 20:48:50.608826 Epoch 180, Training loss 0.6130643897806592\n",
            "2022-03-28 20:51:31.926827 Epoch 190, Training loss 0.6072684218511557\n",
            "2022-03-28 20:54:13.199336 Epoch 200, Training loss 0.60083992295253\n",
            "2022-03-28 20:56:54.537376 Epoch 210, Training loss 0.5918177294609187\n",
            "2022-03-28 20:59:35.987018 Epoch 220, Training loss 0.5847360906012528\n",
            "2022-03-28 21:02:17.682792 Epoch 230, Training loss 0.5801480260803876\n",
            "2022-03-28 21:04:59.474554 Epoch 240, Training loss 0.5732363406044748\n",
            "2022-03-28 21:07:41.374912 Epoch 250, Training loss 0.5690136368927139\n",
            "2022-03-28 21:10:23.303386 Epoch 260, Training loss 0.5655195164063093\n",
            "2022-03-28 21:13:05.186840 Epoch 270, Training loss 0.5593911977222813\n",
            "2022-03-28 21:15:46.967354 Epoch 280, Training loss 0.5549072656408905\n",
            "2022-03-28 21:18:28.624590 Epoch 290, Training loss 0.5515052811683291\n",
            "2022-03-28 21:21:10.264685 Epoch 300, Training loss 0.5451229900464682\n"
          ]
        }
      ]
    },
    {
      "cell_type": "code",
      "source": [
        "#Checking accuracy\n",
        "validate(model,  acc_train_loader, val_loader)"
      ],
      "metadata": {
        "colab": {
          "base_uri": "https://localhost:8080/"
        },
        "id": "MiAsVAtdemWh",
        "outputId": "91066925-9c9a-4d90-a3c1-18400225f0d0"
      },
      "execution_count": null,
      "outputs": [
        {
          "output_type": "stream",
          "name": "stdout",
          "text": [
            "Accuracy train: 0.82\n",
            "Accuracy val: 0.61\n"
          ]
        },
        {
          "output_type": "execute_result",
          "data": {
            "text/plain": [
              "{'train': 0.81714, 'val': 0.6067}"
            ]
          },
          "metadata": {},
          "execution_count": 11
        }
      ]
    },
    {
      "cell_type": "code",
      "source": [
        "#Defineing model for Problem 1b\n",
        "#adding one more additional convolution layer followed by an activation function and pooling function\n",
        "class Net2(nn.Module):\n",
        "    def __init__(self):\n",
        "        super().__init__()\n",
        "        self.conv1 = nn.Conv2d(3, 16, kernel_size=3, padding=1) #3x16x3x3\n",
        "        self.conv2 = nn.Conv2d(16, 8, kernel_size=3, padding=1) #16x8x3x3\n",
        "        self.conv3= nn.Conv2d(8, 4, kernel_size=3, padding=1) #8x4x3x3\n",
        "        self.fc1 = nn.Linear(4 * 4 * 4, 32) #4x4x4x32\n",
        "        self.fc2 = nn.Linear(32, 10) #32x2\n",
        "        \n",
        "    def forward(self, x):\n",
        "        out = F.max_pool2d(torch.tanh(self.conv1(x)), 2)\n",
        "        out = F.max_pool2d(torch.tanh(self.conv2(out)), 2)\n",
        "        out = F.max_pool2d(torch.tanh(self.conv3(out)), 2)\n",
        "        out = out.view(-1, 4 * 4 * 4)\n",
        "        out = torch.tanh(self.fc1(out))\n",
        "        out = self.fc2(out)\n",
        "        return out\n",
        "\n",
        "model = Net2().to(device=device)\n",
        "optimizer = optim.SGD(model.parameters(), lr=1e-2)\n",
        "loss_fn = nn.CrossEntropyLoss()\n",
        "\n",
        "training_loop(\n",
        "    n_epochs = 300,\n",
        "    optimizer = optimizer,\n",
        "    model = model,\n",
        "    loss_fn = loss_fn,\n",
        "    train_loader = train_loader,\n",
        ")"
      ],
      "metadata": {
        "colab": {
          "base_uri": "https://localhost:8080/"
        },
        "id": "QHRJVRamfQjB",
        "outputId": "726de013-843e-4bc9-e1d0-fb0f42077b26"
      },
      "execution_count": null,
      "outputs": [
        {
          "output_type": "stream",
          "name": "stdout",
          "text": [
            "2022-03-28 23:44:59.857119 Epoch 1, Training loss 2.2378833370135567\n",
            "2022-03-28 23:49:51.624658 Epoch 10, Training loss 1.4104722114780066\n",
            "2022-03-28 23:55:18.941314 Epoch 20, Training loss 1.23311075751129\n",
            "2022-03-29 00:00:46.131594 Epoch 30, Training loss 1.137078295735752\n",
            "2022-03-29 00:06:09.797377 Epoch 40, Training loss 1.076214544913348\n",
            "2022-03-29 00:11:33.748397 Epoch 50, Training loss 1.0381936994202607\n",
            "2022-03-29 00:16:59.196022 Epoch 60, Training loss 1.012745030700703\n",
            "2022-03-29 00:22:23.622945 Epoch 70, Training loss 0.994526516522288\n",
            "2022-03-29 00:27:47.650065 Epoch 80, Training loss 0.9775165048096796\n",
            "2022-03-29 00:33:12.822729 Epoch 90, Training loss 0.9680480797729833\n",
            "2022-03-29 00:38:36.914658 Epoch 100, Training loss 0.955812995619786\n",
            "2022-03-29 00:44:02.114940 Epoch 110, Training loss 0.9474385941729826\n",
            "2022-03-29 00:49:27.557628 Epoch 120, Training loss 0.9435525353607315\n",
            "2022-03-29 00:54:52.458864 Epoch 130, Training loss 0.9341267847344089\n",
            "2022-03-29 01:00:18.010674 Epoch 140, Training loss 0.9292449557872684\n",
            "2022-03-29 01:05:44.058997 Epoch 150, Training loss 0.9213657715284002\n",
            "2022-03-29 01:11:09.218760 Epoch 160, Training loss 0.9166091329530072\n",
            "2022-03-29 01:16:33.674481 Epoch 170, Training loss 0.9133298329989928\n",
            "2022-03-29 01:22:00.375074 Epoch 180, Training loss 0.9076772319233936\n",
            "2022-03-29 01:27:25.280922 Epoch 190, Training loss 0.9036348016975481\n",
            "2022-03-29 01:32:49.931187 Epoch 200, Training loss 0.8983099721276852\n",
            "2022-03-29 01:38:15.345688 Epoch 210, Training loss 0.8950360637644063\n",
            "2022-03-29 01:43:40.023992 Epoch 220, Training loss 0.8929798926996149\n",
            "2022-03-29 01:49:05.287769 Epoch 230, Training loss 0.8896277084984743\n",
            "2022-03-29 01:54:29.484671 Epoch 240, Training loss 0.8873115870196496\n",
            "2022-03-29 01:59:54.775476 Epoch 250, Training loss 0.8840547396093988\n",
            "2022-03-29 02:05:19.728066 Epoch 260, Training loss 0.8811225116710224\n",
            "2022-03-29 02:10:45.053758 Epoch 270, Training loss 0.8783266266136218\n",
            "2022-03-29 02:16:10.310766 Epoch 280, Training loss 0.8781819861868153\n",
            "2022-03-29 02:21:36.465776 Epoch 290, Training loss 0.8754014231054984\n",
            "2022-03-29 02:27:02.059223 Epoch 300, Training loss 0.8711985396149823\n",
            "Training finished, took 9754.73s\n"
          ]
        }
      ]
    },
    {
      "cell_type": "code",
      "source": [
        "validate(model,  acc_train_loader, val_loader)"
      ],
      "metadata": {
        "colab": {
          "base_uri": "https://localhost:8080/"
        },
        "id": "ssuLL02o2hAj",
        "outputId": "bb72a0ae-92a5-47d6-c7d0-30abfba0b1fa"
      },
      "execution_count": null,
      "outputs": [
        {
          "output_type": "stream",
          "name": "stdout",
          "text": [
            "Accuracy train: 0.69\n",
            "Accuracy val: 0.65\n"
          ]
        },
        {
          "output_type": "execute_result",
          "data": {
            "text/plain": [
              "{'train': 0.68948, 'val': 0.6514}"
            ]
          },
          "metadata": {},
          "execution_count": 18
        }
      ]
    },
    {
      "cell_type": "code",
      "source": [
        "#size of model for 1b\n",
        "model = Net2().to(device=device)\n",
        "numel_list = [p.numel() for p in model.parameters()]\n",
        "sum(numel_list), numel_list"
      ],
      "metadata": {
        "colab": {
          "base_uri": "https://localhost:8080/"
        },
        "id": "K-seDq_qK51C",
        "outputId": "33d4ac79-a928-4bf2-cc09-34d1fedaf588"
      },
      "execution_count": null,
      "outputs": [
        {
          "output_type": "execute_result",
          "data": {
            "text/plain": [
              "(4310, [432, 16, 1152, 8, 288, 4, 2048, 32, 320, 10])"
            ]
          },
          "metadata": {},
          "execution_count": 18
        }
      ]
    },
    {
      "cell_type": "markdown",
      "source": [
        "a. Build a ResNet based Convolutional Neural Network, like what we built in lectures (with skip connections), to classify the images across all 10 classes in CIFAR 10. For this problem, let’s use 10 blocks for ResNet and call it ResNet-10. Use the similar dimensions and channels as we need in lectures. Train your network for 300 epochs. Report your training time, training loss, and evaluation accuracy after 300 epochs. Analyze your results in your report and compare them against problem 1.b on training time, achieved accuracy, and model size. Make sure to submit your code by providing the GitHub URL of your course repository for this course.\n",
        "\n",
        "b. Develop three additional trainings and evaluations for your ResNet-10 to assess the impacts of regularization to your ResNet-10.\n",
        "*   Weight Decay with lambda of 0.001\n",
        "*   Dropout with p=0.3\n",
        "*   Batch Normalization\n",
        "\n",
        "Report and compare your training time, training loss, and evaluation accuracy after 300 epochs across these three different trainings. Analyze your results in your report and compare them against problem 1.a on training time, achieved accuracy."
      ],
      "metadata": {
        "id": "ZcYI0NkafcpG"
      }
    },
    {
      "cell_type": "code",
      "source": [
        "#Problem 2\n",
        "#Defining model for 2a\n",
        "#ResNet block\n",
        "class ResBlock(nn.Module):\n",
        "    def __init__(self, n_chans):\n",
        "        super(ResBlock, self).__init__()\n",
        "        self.conv = nn.Conv2d(n_chans, n_chans, kernel_size=3, padding=1, bias=False)\n",
        "        self.batch_norm = nn.BatchNorm2d(num_features=n_chans)\n",
        "        torch.nn.init.kaiming_normal_(self.conv.weight, nonlinearity='relu')\n",
        "        torch.nn.init.constant_(self.batch_norm.weight, 0.5)\n",
        "        torch.nn.init.zeros_(self.batch_norm.bias)\n",
        "\n",
        "    def forward(self, x):\n",
        "        out = self.conv(x)\n",
        "        out = self.batch_norm(out)\n",
        "        out = torch.relu(out)\n",
        "        return out + x\n",
        "\n",
        "#ResNet model\n",
        "class ResNet10(nn.Module):\n",
        "    def __init__(self, n_chans1=32, n_blocks=10):\n",
        "        super().__init__()\n",
        "        self.n_chans1 = n_chans1\n",
        "        self.conv1 = nn.Conv2d(3, n_chans1, kernel_size=3, padding=1)\n",
        "        self.resblocks = nn.Sequential(*(n_blocks * [ResBlock(n_chans=n_chans1)]))\n",
        "        self.fc1 = nn.Linear(8 * 8 * n_chans1, 32)\n",
        "        self.fc2 = nn.Linear(32, 10)\n",
        "        \n",
        "    def forward(self, x):\n",
        "        out = F.max_pool2d(torch.relu(self.conv1(x)), 2)\n",
        "        out = self.resblocks(out)\n",
        "        out = F.max_pool2d(out, 2)\n",
        "        out = out.view(-1, 8 * 8 * self.n_chans1)\n",
        "        out = torch.relu(self.fc1(out))\n",
        "        out = self.fc2(out)\n",
        "        return out\n",
        "\n",
        "\n",
        "model = ResNet10(n_chans1=32, n_blocks=10).to(device=device)\n",
        "optimizer = optim.SGD(model.parameters(), lr=1e-3)\n",
        "loss_fn = nn.CrossEntropyLoss()\n",
        "numel_list = [p.numel() for p in model.parameters()]\n",
        "sum(numel_list), numel_list"
      ],
      "metadata": {
        "id": "Xn8bm5Ftyr3w",
        "colab": {
          "base_uri": "https://localhost:8080/"
        },
        "outputId": "a459ec3c-5986-43cb-89b0-80761306ded8"
      },
      "execution_count": 5,
      "outputs": [
        {
          "output_type": "execute_result",
          "data": {
            "text/plain": [
              "(76074, [864, 32, 9216, 32, 32, 65536, 32, 320, 10])"
            ]
          },
          "metadata": {},
          "execution_count": 5
        }
      ]
    },
    {
      "cell_type": "code",
      "source": [
        "#Training model\n",
        "training_loop(\n",
        "    n_epochs = 300,\n",
        "    optimizer = optimizer,\n",
        "    model = model,\n",
        "    loss_fn = loss_fn,\n",
        "    train_loader = train_loader,\n",
        ")"
      ],
      "metadata": {
        "id": "uPvRstgCZnau"
      },
      "execution_count": null,
      "outputs": []
    },
    {
      "cell_type": "code",
      "source": [
        "#ResNet model for adding dropout\n",
        "class ResNet10D(nn.Module):\n",
        "    def __init__(self, n_chans1=32, n_blocks=10):\n",
        "        super().__init__()\n",
        "        self.n_chans1 = n_chans1\n",
        "        self.conv1 = nn.Conv2d(3, n_chans1, kernel_size=3, padding=1)\n",
        "        self.conv1_dropout = nn.Dropout2d(p=0.3)\n",
        "        self.resblocks = nn.Sequential(*(n_blocks * [ResBlock(n_chans=n_chans1)]))\n",
        "        self.conv2_dropout = nn.Dropout2d(p=0.3)\n",
        "        self.fc1 = nn.Linear(8 * 8 * n_chans1, 32)\n",
        "        self.fc2 = nn.Linear(32, 10)\n",
        "        \n",
        "    def forward(self, x):\n",
        "        out = F.max_pool2d(torch.relu(self.conv1(x)), 2)\n",
        "        out = self.conv1_dropout(out)\n",
        "        out = self.resblocks(out)\n",
        "        out = F.max_pool2d(out, 2)\n",
        "        out = self.conv2_dropout(out)\n",
        "        out = out.view(-1, 8 * 8 * self.n_chans1)\n",
        "        out = torch.relu(self.fc1(out))\n",
        "        out = self.fc2(out)\n",
        "        return out\n",
        "\n",
        "        \n",
        "model = ResNet10D(n_chans1=32, n_blocks=10).to(device=device)\n",
        "optimizer = optim.SGD(model.parameters(), lr=1e-3)\n",
        "loss_fn = nn.CrossEntropyLoss()\n",
        "numel_list = [p.numel() for p in model.parameters()]\n",
        "sum(numel_list), numel_list\n",
        "\n",
        "#Training model\n",
        "training_loop(\n",
        "    n_epochs = 300,\n",
        "    optimizer = optimizer,\n",
        "    model = model,\n",
        "    loss_fn = loss_fn,\n",
        "    train_loader = train_loader,\n",
        ")"
      ],
      "metadata": {
        "colab": {
          "base_uri": "https://localhost:8080/"
        },
        "id": "fpqZby7pcwJU",
        "outputId": "68c80ced-5312-4552-d626-d336317e4b29"
      },
      "execution_count": null,
      "outputs": [
        {
          "output_type": "stream",
          "name": "stdout",
          "text": [
            "2022-03-30 10:55:09.385066 Epoch 1, Training loss 2.2135498814875514\n",
            "2022-03-30 11:01:14.435248 Epoch 10, Training loss 1.4941980697004997\n",
            "2022-03-30 11:07:34.511921 Epoch 20, Training loss 1.3449654826117903\n",
            "2022-03-30 11:13:41.352108 Epoch 30, Training loss 1.2511763698457148\n",
            "2022-03-30 11:19:47.541712 Epoch 40, Training loss 1.187286528632464\n",
            "2022-03-30 11:25:54.821187 Epoch 50, Training loss 1.134730988832386\n",
            "2022-03-30 11:32:02.625592 Epoch 60, Training loss 1.0996057735684583\n",
            "2022-03-30 11:38:11.773637 Epoch 70, Training loss 1.0700059938613715\n",
            "2022-03-30 11:44:18.092775 Epoch 80, Training loss 1.0463382771710301\n",
            "2022-03-30 11:50:23.605515 Epoch 90, Training loss 1.0219793007959186\n",
            "2022-03-30 11:56:25.491374 Epoch 100, Training loss 1.0015018986314155\n",
            "2022-03-30 12:02:26.740992 Epoch 110, Training loss 0.987823931609883\n",
            "2022-03-30 12:08:28.021304 Epoch 120, Training loss 0.974506317349651\n",
            "2022-03-30 12:14:27.057263 Epoch 130, Training loss 0.9602330915458367\n",
            "2022-03-30 12:20:30.082924 Epoch 140, Training loss 0.9447340276235204\n",
            "2022-03-30 12:26:31.142120 Epoch 150, Training loss 0.9314237958787347\n",
            "2022-03-30 12:32:31.908449 Epoch 160, Training loss 0.9268458135749983\n",
            "2022-03-30 12:38:33.888824 Epoch 170, Training loss 0.9093837036043787\n",
            "2022-03-30 12:44:34.030083 Epoch 180, Training loss 0.9039302990412164\n",
            "2022-03-30 12:50:35.461713 Epoch 190, Training loss 0.9016032252470245\n",
            "2022-03-30 12:56:39.998748 Epoch 200, Training loss 0.8925421539017612\n",
            "2022-03-30 13:02:40.834561 Epoch 210, Training loss 0.8818709262649117\n",
            "2022-03-30 13:08:43.531750 Epoch 220, Training loss 0.8731440659755331\n",
            "2022-03-30 13:14:45.381966 Epoch 230, Training loss 0.8666601027064311\n",
            "2022-03-30 13:20:51.512838 Epoch 240, Training loss 0.8593946618344778\n",
            "2022-03-30 13:26:56.931048 Epoch 250, Training loss 0.855054627408457\n",
            "2022-03-30 13:32:57.887454 Epoch 260, Training loss 0.8434587505162524\n",
            "2022-03-30 13:39:04.094784 Epoch 270, Training loss 0.8420463772990819\n",
            "2022-03-30 13:45:07.179487 Epoch 280, Training loss 0.8332776716526817\n",
            "2022-03-30 13:51:18.077956 Epoch 290, Training loss 0.8338507025138192\n",
            "2022-03-30 13:57:32.806017 Epoch 300, Training loss 0.8244609089611131\n",
            "Training finished, took 10984.62s\n"
          ]
        }
      ]
    },
    {
      "cell_type": "code",
      "source": [
        "validate(model,  acc_train_loader, val_loader)"
      ],
      "metadata": {
        "colab": {
          "base_uri": "https://localhost:8080/"
        },
        "id": "_Oo8psNeGS9E",
        "outputId": "f9007d07-7819-4329-aa70-de7c0d25c604"
      },
      "execution_count": null,
      "outputs": [
        {
          "output_type": "stream",
          "name": "stdout",
          "text": [
            "Accuracy train: 0.70\n",
            "Accuracy val: 0.64\n"
          ]
        },
        {
          "output_type": "execute_result",
          "data": {
            "text/plain": [
              "{'train': 0.70408, 'val': 0.6355}"
            ]
          },
          "metadata": {},
          "execution_count": 8
        }
      ]
    },
    {
      "cell_type": "code",
      "source": [
        "numel_list = [p.numel() for p in model.parameters()]\n",
        "sum(numel_list), numel_list"
      ],
      "metadata": {
        "colab": {
          "base_uri": "https://localhost:8080/"
        },
        "id": "bTvrUYWEJctG",
        "outputId": "e4709f62-24fe-4bcf-8759-dfcc1be87afc"
      },
      "execution_count": null,
      "outputs": [
        {
          "output_type": "execute_result",
          "data": {
            "text/plain": [
              "(76074, [864, 32, 9216, 32, 32, 65536, 32, 320, 10])"
            ]
          },
          "metadata": {},
          "execution_count": 13
        }
      ]
    },
    {
      "cell_type": "code",
      "source": [
        "#ResNet model for adding batch normalization\n",
        "class ResNet10BN(nn.Module):\n",
        "    def __init__(self, n_chans1=32, n_blocks=10):\n",
        "        super().__init__()\n",
        "        self.n_chans1 = n_chans1\n",
        "        self.conv1 = nn.Conv2d(3, n_chans1, kernel_size=3, padding=1)\n",
        "        self.conv1_batchnorm = nn.BatchNorm2d(num_features=n_chans1)\n",
        "        self.resblocks = nn.Sequential(*(n_blocks * [ResBlock(n_chans=n_chans1)]))\n",
        "        self.fc1 = nn.Linear(8 * 8 * n_chans1, 32)\n",
        "        self.fc2 = nn.Linear(32, 10)\n",
        "        \n",
        "    def forward(self, x):\n",
        "        out = self.conv1_batchnorm(self.conv1(x))\n",
        "        out = F.max_pool2d(torch.relu(out), 2)\n",
        "        out = self.resblocks(out)\n",
        "        out = F.max_pool2d(out, 2)\n",
        "        out = out.view(-1, 8 * 8 * self.n_chans1)\n",
        "        out = torch.relu(self.fc1(out))\n",
        "        out = self.fc2(out)\n",
        "        return out\n",
        "\n",
        "model = ResNet10BN(n_chans1=32, n_blocks=10).to(device=device)\n",
        "optimizer = optim.SGD(model.parameters(), lr=1e-3)\n",
        "loss_fn = nn.CrossEntropyLoss()\n",
        "numel_list = [p.numel() for p in model.parameters()]\n",
        "sum(numel_list), numel_list"
      ],
      "metadata": {
        "colab": {
          "base_uri": "https://localhost:8080/"
        },
        "id": "ZvqavwIt25yV",
        "outputId": "5d47d21f-7d4b-403b-b467-983c3cfe1b2e"
      },
      "execution_count": 6,
      "outputs": [
        {
          "output_type": "execute_result",
          "data": {
            "text/plain": [
              "(76138, [864, 32, 32, 32, 9216, 32, 32, 65536, 32, 320, 10])"
            ]
          },
          "metadata": {},
          "execution_count": 6
        }
      ]
    },
    {
      "cell_type": "code",
      "source": [
        "#Training model\n",
        "training_loop(\n",
        "    n_epochs = 300,\n",
        "    optimizer = optimizer,\n",
        "    model = model,\n",
        "    loss_fn = loss_fn,\n",
        "    train_loader = train_loader,\n",
        ")"
      ],
      "metadata": {
        "id": "fO4Jhck7LxW2",
        "colab": {
          "base_uri": "https://localhost:8080/"
        },
        "outputId": "de2092d2-ef10-4070-83dc-37cadacbbd7d"
      },
      "execution_count": null,
      "outputs": [
        {
          "output_type": "stream",
          "name": "stdout",
          "text": [
            "2022-03-30 17:28:19.998771 Epoch 1, Training loss 1.8615856202667023\n",
            "2022-03-30 17:34:42.429652 Epoch 10, Training loss 1.0351223790889506\n",
            "2022-03-30 17:41:42.935345 Epoch 20, Training loss 0.8582049342601196\n",
            "2022-03-30 17:48:41.714296 Epoch 30, Training loss 0.750310875799345\n",
            "2022-03-30 17:55:45.754845 Epoch 40, Training loss 0.6663046671301508\n",
            "2022-03-30 18:02:50.534087 Epoch 50, Training loss 0.5943967440853948\n",
            "2022-03-30 18:09:49.959882 Epoch 60, Training loss 0.5321763424998354\n",
            "2022-03-30 18:16:49.257867 Epoch 70, Training loss 0.47591287890434875\n",
            "2022-03-30 18:23:48.882848 Epoch 80, Training loss 0.4195062935619098\n",
            "2022-03-30 18:30:47.592010 Epoch 90, Training loss 0.37314048491399304\n",
            "2022-03-30 18:37:46.155392 Epoch 100, Training loss 0.327264652218279\n",
            "2022-03-30 18:44:45.462162 Epoch 110, Training loss 0.2852976848097408\n",
            "2022-03-30 18:51:46.651340 Epoch 120, Training loss 0.24660135284447304\n",
            "2022-03-30 18:58:52.855944 Epoch 130, Training loss 0.21510835833218703\n",
            "2022-03-30 19:05:58.280514 Epoch 140, Training loss 0.184785622565071\n",
            "2022-03-30 19:13:03.474456 Epoch 150, Training loss 0.15978813698262814\n",
            "2022-03-30 19:20:09.145104 Epoch 160, Training loss 0.13992878829922212\n",
            "2022-03-30 19:27:15.988889 Epoch 170, Training loss 0.11399465795282436\n",
            "2022-03-30 19:34:21.656210 Epoch 180, Training loss 0.09543482507662394\n",
            "2022-03-30 19:41:28.650129 Epoch 190, Training loss 0.08452884528709723\n",
            "2022-03-30 19:48:35.251545 Epoch 200, Training loss 0.06976364185924039\n",
            "2022-03-30 19:55:40.453731 Epoch 210, Training loss 0.05438004737919973\n",
            "2022-03-30 20:02:45.229806 Epoch 220, Training loss 0.06142988730379192\n",
            "2022-03-30 20:09:52.945295 Epoch 230, Training loss 0.045082490293956966\n",
            "2022-03-30 20:16:57.730391 Epoch 240, Training loss 0.04206755653064212\n",
            "2022-03-30 20:24:02.641019 Epoch 250, Training loss 0.03234899449555199\n",
            "2022-03-30 20:31:07.701766 Epoch 260, Training loss 0.028901844514090846\n",
            "2022-03-30 20:38:12.156024 Epoch 270, Training loss 0.029171158488461142\n",
            "2022-03-30 20:45:31.191369 Epoch 280, Training loss 0.036502458047076504\n",
            "2022-03-30 20:52:39.053198 Epoch 290, Training loss 0.02117877251133942\n"
          ]
        }
      ]
    },
    {
      "cell_type": "code",
      "source": [
        "#ResNet training for adding weight decay\n",
        "#Use ResNet10 model\n",
        "def training_loop_WD(n_epochs, optimizer, model, loss_fn,\n",
        "                        train_loader):\n",
        "    for epoch in range(1, n_epochs + 1):\n",
        "        loss_train = 0.0\n",
        "        for imgs, labels in train_loader:\n",
        "            imgs = imgs.to(device=device)\n",
        "            labels = labels.to(device=device)\n",
        "            outputs = model(imgs)\n",
        "            loss = loss_fn(outputs, labels)\n",
        "\n",
        "            l2_lambda = 0.001\n",
        "            l2_norm = sum(p.pow(2.0).sum()\n",
        "                          for p in model.parameters())  # <1>\n",
        "            loss = loss + l2_lambda * l2_norm\n",
        "\n",
        "            optimizer.zero_grad()\n",
        "            loss.backward()\n",
        "            optimizer.step()\n",
        "            \n",
        "            loss_train += loss.item()\n",
        "        if epoch == 1 or epoch % 10 == 0:\n",
        "            print('{} Epoch {}, Training loss {}'.format(\n",
        "                datetime.datetime.now(), epoch,\n",
        "                loss_train / len(train_loader)))\n",
        "            \n",
        "model =  ResNet10(n_chans1=32, n_blocks=10).to(device=device)\n",
        "optimizer = optim.SGD(model.parameters(), lr=1e-3)\n",
        "loss_fn = nn.CrossEntropyLoss()\n",
        "#Size of model\n",
        "numel_list = [p.numel() for p in model.parameters()]\n",
        "sum(numel_list), numel_list"
      ],
      "metadata": {
        "colab": {
          "base_uri": "https://localhost:8080/"
        },
        "id": "TawBfH05DecE",
        "outputId": "dcee8bdc-36bc-43b6-8eb9-959cf794297d"
      },
      "execution_count": null,
      "outputs": [
        {
          "output_type": "execute_result",
          "data": {
            "text/plain": [
              "(76074, [864, 32, 9216, 32, 32, 65536, 32, 320, 10])"
            ]
          },
          "metadata": {},
          "execution_count": 19
        }
      ]
    },
    {
      "cell_type": "code",
      "source": [
        "training_loop_WD(\n",
        "    n_epochs = 300,\n",
        "    optimizer = optimizer,\n",
        "    model = model,\n",
        "    loss_fn = loss_fn,\n",
        "    train_loader = train_loader,\n",
        ")"
      ],
      "metadata": {
        "id": "cJhIfFYBL_dJ"
      },
      "execution_count": null,
      "outputs": []
    }
  ]
}